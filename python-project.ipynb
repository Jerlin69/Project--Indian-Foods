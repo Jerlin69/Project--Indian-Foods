{
 "cells": [
  {
   "cell_type": "markdown",
   "id": "099b9105",
   "metadata": {
    "papermill": {
     "duration": 0.009892,
     "end_time": "2023-09-29T04:32:40.948826",
     "exception": false,
     "start_time": "2023-09-29T04:32:40.938934",
     "status": "completed"
    },
    "tags": []
   },
   "source": []
  },
  {
   "cell_type": "code",
   "execution_count": 1,
   "id": "e45eb0b2",
   "metadata": {
    "execution": {
     "iopub.execute_input": "2023-09-29T04:32:40.969539Z",
     "iopub.status.busy": "2023-09-29T04:32:40.969166Z",
     "iopub.status.idle": "2023-09-29T04:32:43.535198Z",
     "shell.execute_reply": "2023-09-29T04:32:43.533959Z"
    },
    "papermill": {
     "duration": 2.579241,
     "end_time": "2023-09-29T04:32:43.537632",
     "exception": false,
     "start_time": "2023-09-29T04:32:40.958391",
     "status": "completed"
    },
    "tags": []
   },
   "outputs": [],
   "source": [
    "import pandas as pd\n",
    "import numpy as np\n",
    "import re\n",
    "import seaborn as sns\n",
    "import matplotlib.pyplot  as plt\n",
    "import plotly.express as px"
   ]
  },
  {
   "cell_type": "code",
   "execution_count": 2,
   "id": "43267d9f",
   "metadata": {
    "execution": {
     "iopub.execute_input": "2023-09-29T04:32:43.557653Z",
     "iopub.status.busy": "2023-09-29T04:32:43.557105Z",
     "iopub.status.idle": "2023-09-29T04:32:43.597625Z",
     "shell.execute_reply": "2023-09-29T04:32:43.596472Z"
    },
    "papermill": {
     "duration": 0.052901,
     "end_time": "2023-09-29T04:32:43.599749",
     "exception": false,
     "start_time": "2023-09-29T04:32:43.546848",
     "status": "completed"
    },
    "tags": []
   },
   "outputs": [
    {
     "data": {
      "text/html": [
       "<div>\n",
       "<style scoped>\n",
       "    .dataframe tbody tr th:only-of-type {\n",
       "        vertical-align: middle;\n",
       "    }\n",
       "\n",
       "    .dataframe tbody tr th {\n",
       "        vertical-align: top;\n",
       "    }\n",
       "\n",
       "    .dataframe thead th {\n",
       "        text-align: right;\n",
       "    }\n",
       "</style>\n",
       "<table border=\"1\" class=\"dataframe\">\n",
       "  <thead>\n",
       "    <tr style=\"text-align: right;\">\n",
       "      <th></th>\n",
       "      <th>name</th>\n",
       "      <th>ingredients</th>\n",
       "      <th>diet</th>\n",
       "      <th>prep_time</th>\n",
       "      <th>cook_time</th>\n",
       "      <th>flavor_profile</th>\n",
       "      <th>course</th>\n",
       "      <th>state</th>\n",
       "      <th>region</th>\n",
       "      <th>img_url</th>\n",
       "    </tr>\n",
       "  </thead>\n",
       "  <tbody>\n",
       "    <tr>\n",
       "      <th>0</th>\n",
       "      <td>Adhirasam</td>\n",
       "      <td>Rice flour, jaggery, ghee, vegetable oil, elachi</td>\n",
       "      <td>vegetarian</td>\n",
       "      <td>10</td>\n",
       "      <td>50</td>\n",
       "      <td>sweet</td>\n",
       "      <td>dessert</td>\n",
       "      <td>West Bengal</td>\n",
       "      <td>East</td>\n",
       "      <td>https://www.crazymasalafood.com/wp-content/ima...</td>\n",
       "    </tr>\n",
       "    <tr>\n",
       "      <th>1</th>\n",
       "      <td>Aloo gobi</td>\n",
       "      <td>Cauliflower, potato, garam masala, turmeric, c...</td>\n",
       "      <td>vegetarian</td>\n",
       "      <td>10</td>\n",
       "      <td>20</td>\n",
       "      <td>spicy</td>\n",
       "      <td>main course</td>\n",
       "      <td>Punjab</td>\n",
       "      <td>North</td>\n",
       "      <td>https://www.vegrecipesofindia.com/wp-content/u...</td>\n",
       "    </tr>\n",
       "    <tr>\n",
       "      <th>2</th>\n",
       "      <td>Aloo matar</td>\n",
       "      <td>Potato, peas, chillies, ginger, garam masala, ...</td>\n",
       "      <td>vegetarian</td>\n",
       "      <td>5</td>\n",
       "      <td>40</td>\n",
       "      <td>spicy</td>\n",
       "      <td>main course</td>\n",
       "      <td>Punjab</td>\n",
       "      <td>North</td>\n",
       "      <td>https://www.vegrecipesofindia.com/wp-content/u...</td>\n",
       "    </tr>\n",
       "    <tr>\n",
       "      <th>3</th>\n",
       "      <td>Aloo methi</td>\n",
       "      <td>Potato, fenugreek leaves, chillies, salt, oil</td>\n",
       "      <td>vegetarian</td>\n",
       "      <td>10</td>\n",
       "      <td>40</td>\n",
       "      <td>bitter</td>\n",
       "      <td>main course</td>\n",
       "      <td>Punjab</td>\n",
       "      <td>North</td>\n",
       "      <td>https://www.vegrecipesofindia.com/wp-content/u...</td>\n",
       "    </tr>\n",
       "    <tr>\n",
       "      <th>4</th>\n",
       "      <td>Aloo shimla mirch</td>\n",
       "      <td>Potato, shimla mirch, garam masala, amchur pow...</td>\n",
       "      <td>vegetarian</td>\n",
       "      <td>10</td>\n",
       "      <td>40</td>\n",
       "      <td>spicy</td>\n",
       "      <td>main course</td>\n",
       "      <td>Punjab</td>\n",
       "      <td>North</td>\n",
       "      <td>https://www.vegrecipesofindia.com/wp-content/u...</td>\n",
       "    </tr>\n",
       "  </tbody>\n",
       "</table>\n",
       "</div>"
      ],
      "text/plain": [
       "                name                                        ingredients  \\\n",
       "0          Adhirasam   Rice flour, jaggery, ghee, vegetable oil, elachi   \n",
       "1          Aloo gobi  Cauliflower, potato, garam masala, turmeric, c...   \n",
       "2         Aloo matar  Potato, peas, chillies, ginger, garam masala, ...   \n",
       "3         Aloo methi      Potato, fenugreek leaves, chillies, salt, oil   \n",
       "4  Aloo shimla mirch  Potato, shimla mirch, garam masala, amchur pow...   \n",
       "\n",
       "         diet  prep_time  cook_time flavor_profile       course        state  \\\n",
       "0  vegetarian         10         50          sweet      dessert  West Bengal   \n",
       "1  vegetarian         10         20          spicy  main course       Punjab   \n",
       "2  vegetarian          5         40          spicy  main course       Punjab   \n",
       "3  vegetarian         10         40         bitter  main course       Punjab   \n",
       "4  vegetarian         10         40          spicy  main course       Punjab   \n",
       "\n",
       "  region                                            img_url  \n",
       "0   East  https://www.crazymasalafood.com/wp-content/ima...  \n",
       "1  North  https://www.vegrecipesofindia.com/wp-content/u...  \n",
       "2  North  https://www.vegrecipesofindia.com/wp-content/u...  \n",
       "3  North  https://www.vegrecipesofindia.com/wp-content/u...  \n",
       "4  North  https://www.vegrecipesofindia.com/wp-content/u...  "
      ]
     },
     "execution_count": 2,
     "metadata": {},
     "output_type": "execute_result"
    }
   ],
   "source": [
    "df = pd.read_csv('/kaggle/input/indian-food-dataset-with/Ifood_new.csv')\n",
    "df.head()"
   ]
  },
  {
   "cell_type": "code",
   "execution_count": 3,
   "id": "e4040667",
   "metadata": {
    "execution": {
     "iopub.execute_input": "2023-09-29T04:32:43.619627Z",
     "iopub.status.busy": "2023-09-29T04:32:43.619265Z",
     "iopub.status.idle": "2023-09-29T04:32:43.641550Z",
     "shell.execute_reply": "2023-09-29T04:32:43.640359Z"
    },
    "papermill": {
     "duration": 0.034465,
     "end_time": "2023-09-29T04:32:43.643491",
     "exception": false,
     "start_time": "2023-09-29T04:32:43.609026",
     "status": "completed"
    },
    "tags": []
   },
   "outputs": [
    {
     "data": {
      "text/html": [
       "<div>\n",
       "<style scoped>\n",
       "    .dataframe tbody tr th:only-of-type {\n",
       "        vertical-align: middle;\n",
       "    }\n",
       "\n",
       "    .dataframe tbody tr th {\n",
       "        vertical-align: top;\n",
       "    }\n",
       "\n",
       "    .dataframe thead th {\n",
       "        text-align: right;\n",
       "    }\n",
       "</style>\n",
       "<table border=\"1\" class=\"dataframe\">\n",
       "  <thead>\n",
       "    <tr style=\"text-align: right;\">\n",
       "      <th></th>\n",
       "      <th>name</th>\n",
       "      <th>ingredients</th>\n",
       "      <th>diet</th>\n",
       "      <th>prep_time</th>\n",
       "      <th>cook_time</th>\n",
       "      <th>flavor_profile</th>\n",
       "      <th>course</th>\n",
       "      <th>state</th>\n",
       "      <th>region</th>\n",
       "    </tr>\n",
       "  </thead>\n",
       "  <tbody>\n",
       "    <tr>\n",
       "      <th>0</th>\n",
       "      <td>Adhirasam</td>\n",
       "      <td>Rice flour, jaggery, ghee, vegetable oil, elachi</td>\n",
       "      <td>vegetarian</td>\n",
       "      <td>10</td>\n",
       "      <td>50</td>\n",
       "      <td>sweet</td>\n",
       "      <td>dessert</td>\n",
       "      <td>West Bengal</td>\n",
       "      <td>East</td>\n",
       "    </tr>\n",
       "    <tr>\n",
       "      <th>1</th>\n",
       "      <td>Aloo gobi</td>\n",
       "      <td>Cauliflower, potato, garam masala, turmeric, c...</td>\n",
       "      <td>vegetarian</td>\n",
       "      <td>10</td>\n",
       "      <td>20</td>\n",
       "      <td>spicy</td>\n",
       "      <td>main course</td>\n",
       "      <td>Punjab</td>\n",
       "      <td>North</td>\n",
       "    </tr>\n",
       "    <tr>\n",
       "      <th>2</th>\n",
       "      <td>Aloo matar</td>\n",
       "      <td>Potato, peas, chillies, ginger, garam masala, ...</td>\n",
       "      <td>vegetarian</td>\n",
       "      <td>5</td>\n",
       "      <td>40</td>\n",
       "      <td>spicy</td>\n",
       "      <td>main course</td>\n",
       "      <td>Punjab</td>\n",
       "      <td>North</td>\n",
       "    </tr>\n",
       "    <tr>\n",
       "      <th>3</th>\n",
       "      <td>Aloo methi</td>\n",
       "      <td>Potato, fenugreek leaves, chillies, salt, oil</td>\n",
       "      <td>vegetarian</td>\n",
       "      <td>10</td>\n",
       "      <td>40</td>\n",
       "      <td>bitter</td>\n",
       "      <td>main course</td>\n",
       "      <td>Punjab</td>\n",
       "      <td>North</td>\n",
       "    </tr>\n",
       "    <tr>\n",
       "      <th>4</th>\n",
       "      <td>Aloo shimla mirch</td>\n",
       "      <td>Potato, shimla mirch, garam masala, amchur pow...</td>\n",
       "      <td>vegetarian</td>\n",
       "      <td>10</td>\n",
       "      <td>40</td>\n",
       "      <td>spicy</td>\n",
       "      <td>main course</td>\n",
       "      <td>Punjab</td>\n",
       "      <td>North</td>\n",
       "    </tr>\n",
       "  </tbody>\n",
       "</table>\n",
       "</div>"
      ],
      "text/plain": [
       "                name                                        ingredients  \\\n",
       "0          Adhirasam   Rice flour, jaggery, ghee, vegetable oil, elachi   \n",
       "1          Aloo gobi  Cauliflower, potato, garam masala, turmeric, c...   \n",
       "2         Aloo matar  Potato, peas, chillies, ginger, garam masala, ...   \n",
       "3         Aloo methi      Potato, fenugreek leaves, chillies, salt, oil   \n",
       "4  Aloo shimla mirch  Potato, shimla mirch, garam masala, amchur pow...   \n",
       "\n",
       "         diet  prep_time  cook_time flavor_profile       course        state  \\\n",
       "0  vegetarian         10         50          sweet      dessert  West Bengal   \n",
       "1  vegetarian         10         20          spicy  main course       Punjab   \n",
       "2  vegetarian          5         40          spicy  main course       Punjab   \n",
       "3  vegetarian         10         40         bitter  main course       Punjab   \n",
       "4  vegetarian         10         40          spicy  main course       Punjab   \n",
       "\n",
       "  region  \n",
       "0   East  \n",
       "1  North  \n",
       "2  North  \n",
       "3  North  \n",
       "4  North  "
      ]
     },
     "execution_count": 3,
     "metadata": {},
     "output_type": "execute_result"
    }
   ],
   "source": [
    "# don't need img column for now so dropping it \n",
    "drop_col=['img_url']\n",
    "df=df.drop(drop_col,axis=1)\n",
    "df.head()"
   ]
  },
  {
   "cell_type": "code",
   "execution_count": 4,
   "id": "50a4f8f1",
   "metadata": {
    "execution": {
     "iopub.execute_input": "2023-09-29T04:32:43.665178Z",
     "iopub.status.busy": "2023-09-29T04:32:43.664645Z",
     "iopub.status.idle": "2023-09-29T04:32:43.669213Z",
     "shell.execute_reply": "2023-09-29T04:32:43.668473Z"
    },
    "papermill": {
     "duration": 0.01763,
     "end_time": "2023-09-29T04:32:43.671294",
     "exception": false,
     "start_time": "2023-09-29T04:32:43.653664",
     "status": "completed"
    },
    "tags": []
   },
   "outputs": [
    {
     "data": {
      "text/plain": [
       "(255, 9)"
      ]
     },
     "execution_count": 4,
     "metadata": {},
     "output_type": "execute_result"
    }
   ],
   "source": [
    "#no.of rows and columns\n",
    "df.shape"
   ]
  },
  {
   "cell_type": "code",
   "execution_count": 5,
   "id": "30bfe324",
   "metadata": {
    "execution": {
     "iopub.execute_input": "2023-09-29T04:32:43.693315Z",
     "iopub.status.busy": "2023-09-29T04:32:43.692602Z",
     "iopub.status.idle": "2023-09-29T04:32:43.713385Z",
     "shell.execute_reply": "2023-09-29T04:32:43.712177Z"
    },
    "papermill": {
     "duration": 0.03462,
     "end_time": "2023-09-29T04:32:43.715679",
     "exception": false,
     "start_time": "2023-09-29T04:32:43.681059",
     "status": "completed"
    },
    "tags": []
   },
   "outputs": [
    {
     "name": "stdout",
     "output_type": "stream",
     "text": [
      "<class 'pandas.core.frame.DataFrame'>\n",
      "RangeIndex: 255 entries, 0 to 254\n",
      "Data columns (total 9 columns):\n",
      " #   Column          Non-Null Count  Dtype \n",
      "---  ------          --------------  ----- \n",
      " 0   name            255 non-null    object\n",
      " 1   ingredients     255 non-null    object\n",
      " 2   diet            255 non-null    object\n",
      " 3   prep_time       255 non-null    int64 \n",
      " 4   cook_time       255 non-null    int64 \n",
      " 5   flavor_profile  255 non-null    object\n",
      " 6   course          255 non-null    object\n",
      " 7   state           255 non-null    object\n",
      " 8   region          254 non-null    object\n",
      "dtypes: int64(2), object(7)\n",
      "memory usage: 18.1+ KB\n"
     ]
    }
   ],
   "source": [
    "#about the dataframe\n",
    "df.info()"
   ]
  },
  {
   "cell_type": "code",
   "execution_count": 6,
   "id": "78c2e773",
   "metadata": {
    "execution": {
     "iopub.execute_input": "2023-09-29T04:32:43.737600Z",
     "iopub.status.busy": "2023-09-29T04:32:43.737214Z",
     "iopub.status.idle": "2023-09-29T04:32:43.743289Z",
     "shell.execute_reply": "2023-09-29T04:32:43.742230Z"
    },
    "papermill": {
     "duration": 0.019405,
     "end_time": "2023-09-29T04:32:43.745122",
     "exception": false,
     "start_time": "2023-09-29T04:32:43.725717",
     "status": "completed"
    },
    "tags": []
   },
   "outputs": [
    {
     "data": {
      "text/plain": [
       "Index(['name', 'ingredients', 'diet', 'prep_time', 'cook_time',\n",
       "       'flavor_profile', 'course', 'state', 'region'],\n",
       "      dtype='object')"
      ]
     },
     "execution_count": 6,
     "metadata": {},
     "output_type": "execute_result"
    }
   ],
   "source": [
    "# Checking the column names to confirm\n",
    "df.columns"
   ]
  },
  {
   "cell_type": "code",
   "execution_count": 7,
   "id": "57aef887",
   "metadata": {
    "execution": {
     "iopub.execute_input": "2023-09-29T04:32:43.766701Z",
     "iopub.status.busy": "2023-09-29T04:32:43.766062Z",
     "iopub.status.idle": "2023-09-29T04:32:43.773546Z",
     "shell.execute_reply": "2023-09-29T04:32:43.772570Z"
    },
    "papermill": {
     "duration": 0.020524,
     "end_time": "2023-09-29T04:32:43.775520",
     "exception": false,
     "start_time": "2023-09-29T04:32:43.754996",
     "status": "completed"
    },
    "tags": []
   },
   "outputs": [
    {
     "data": {
      "text/plain": [
       "name              0\n",
       "ingredients       0\n",
       "diet              0\n",
       "prep_time         0\n",
       "cook_time         0\n",
       "flavor_profile    0\n",
       "course            0\n",
       "state             0\n",
       "region            1\n",
       "dtype: int64"
      ]
     },
     "execution_count": 7,
     "metadata": {},
     "output_type": "execute_result"
    }
   ],
   "source": [
    "#missing Values\n",
    "df.isna().sum()"
   ]
  },
  {
   "cell_type": "code",
   "execution_count": 8,
   "id": "3465ee2e",
   "metadata": {
    "execution": {
     "iopub.execute_input": "2023-09-29T04:32:43.797372Z",
     "iopub.status.busy": "2023-09-29T04:32:43.797024Z",
     "iopub.status.idle": "2023-09-29T04:32:43.805002Z",
     "shell.execute_reply": "2023-09-29T04:32:43.803939Z"
    },
    "papermill": {
     "duration": 0.021376,
     "end_time": "2023-09-29T04:32:43.807048",
     "exception": false,
     "start_time": "2023-09-29T04:32:43.785672",
     "status": "completed"
    },
    "tags": []
   },
   "outputs": [
    {
     "data": {
      "text/plain": [
       "flavor_profile\n",
       "spicy     133\n",
       "sweet      88\n",
       "-1         29\n",
       "bitter      4\n",
       "sour        1\n",
       "Name: count, dtype: int64"
      ]
     },
     "execution_count": 8,
     "metadata": {},
     "output_type": "execute_result"
    }
   ],
   "source": [
    "df['flavor_profile'].value_counts()"
   ]
  },
  {
   "cell_type": "code",
   "execution_count": 9,
   "id": "05155424",
   "metadata": {
    "execution": {
     "iopub.execute_input": "2023-09-29T04:32:43.828967Z",
     "iopub.status.busy": "2023-09-29T04:32:43.828589Z",
     "iopub.status.idle": "2023-09-29T04:32:43.836207Z",
     "shell.execute_reply": "2023-09-29T04:32:43.835055Z"
    },
    "papermill": {
     "duration": 0.021297,
     "end_time": "2023-09-29T04:32:43.838491",
     "exception": false,
     "start_time": "2023-09-29T04:32:43.817194",
     "status": "completed"
    },
    "tags": []
   },
   "outputs": [
    {
     "data": {
      "text/plain": [
       "course\n",
       "main course    129\n",
       "dessert         85\n",
       "snack           39\n",
       "starter          2\n",
       "Name: count, dtype: int64"
      ]
     },
     "execution_count": 9,
     "metadata": {},
     "output_type": "execute_result"
    }
   ],
   "source": [
    "df['course'].value_counts()"
   ]
  },
  {
   "cell_type": "code",
   "execution_count": 10,
   "id": "cf98778f",
   "metadata": {
    "execution": {
     "iopub.execute_input": "2023-09-29T04:32:43.860321Z",
     "iopub.status.busy": "2023-09-29T04:32:43.859943Z",
     "iopub.status.idle": "2023-09-29T04:32:43.867636Z",
     "shell.execute_reply": "2023-09-29T04:32:43.866707Z"
    },
    "papermill": {
     "duration": 0.020919,
     "end_time": "2023-09-29T04:32:43.869566",
     "exception": false,
     "start_time": "2023-09-29T04:32:43.848647",
     "status": "completed"
    },
    "tags": []
   },
   "outputs": [
    {
     "data": {
      "text/plain": [
       "state\n",
       "Gujarat            35\n",
       "Punjab             33\n",
       "Maharashtra        30\n",
       "West Bengal        24\n",
       "-1                 24\n",
       "Assam              21\n",
       "Tamil Nadu         20\n",
       "Andhra Pradesh     10\n",
       "Uttar Pradesh       9\n",
       "Odisha              7\n",
       "Kerala              7\n",
       "Rajasthan           6\n",
       "Karnataka           6\n",
       "Telangana           5\n",
       "Goa                 3\n",
       "Bihar               3\n",
       "Manipur             2\n",
       "Jammu & Kashmir     2\n",
       "Madhya Pradesh      2\n",
       "NCT of Delhi        1\n",
       "Chhattisgarh        1\n",
       "Nagaland            1\n",
       "Haryana             1\n",
       "Tripura             1\n",
       "Uttarakhand         1\n",
       "Name: count, dtype: int64"
      ]
     },
     "execution_count": 10,
     "metadata": {},
     "output_type": "execute_result"
    }
   ],
   "source": [
    "df['state'].value_counts()"
   ]
  },
  {
   "cell_type": "code",
   "execution_count": 11,
   "id": "4c2fbc43",
   "metadata": {
    "execution": {
     "iopub.execute_input": "2023-09-29T04:32:43.891289Z",
     "iopub.status.busy": "2023-09-29T04:32:43.890897Z",
     "iopub.status.idle": "2023-09-29T04:32:43.898665Z",
     "shell.execute_reply": "2023-09-29T04:32:43.897780Z"
    },
    "papermill": {
     "duration": 0.020678,
     "end_time": "2023-09-29T04:32:43.900386",
     "exception": false,
     "start_time": "2023-09-29T04:32:43.879708",
     "status": "completed"
    },
    "tags": []
   },
   "outputs": [
    {
     "data": {
      "text/plain": [
       "region\n",
       "West          73\n",
       "South         58\n",
       "North         50\n",
       "East          32\n",
       "North East    25\n",
       "-1            13\n",
       "Central        3\n",
       "Name: count, dtype: int64"
      ]
     },
     "execution_count": 11,
     "metadata": {},
     "output_type": "execute_result"
    }
   ],
   "source": [
    "df['region'].value_counts()"
   ]
  },
  {
   "cell_type": "code",
   "execution_count": 12,
   "id": "489d1376",
   "metadata": {
    "execution": {
     "iopub.execute_input": "2023-09-29T04:32:43.981225Z",
     "iopub.status.busy": "2023-09-29T04:32:43.980881Z",
     "iopub.status.idle": "2023-09-29T04:32:43.987539Z",
     "shell.execute_reply": "2023-09-29T04:32:43.986748Z"
    },
    "papermill": {
     "duration": 0.020372,
     "end_time": "2023-09-29T04:32:43.989301",
     "exception": false,
     "start_time": "2023-09-29T04:32:43.968929",
     "status": "completed"
    },
    "tags": []
   },
   "outputs": [
    {
     "data": {
      "text/plain": [
       "diet\n",
       "vegetarian        227\n",
       "non vegetarian     28\n",
       "Name: count, dtype: int64"
      ]
     },
     "execution_count": 12,
     "metadata": {},
     "output_type": "execute_result"
    }
   ],
   "source": [
    "df['diet'].value_counts()"
   ]
  },
  {
   "cell_type": "code",
   "execution_count": 13,
   "id": "cf5187f6",
   "metadata": {
    "execution": {
     "iopub.execute_input": "2023-09-29T04:32:44.012966Z",
     "iopub.status.busy": "2023-09-29T04:32:44.012560Z",
     "iopub.status.idle": "2023-09-29T04:32:44.027310Z",
     "shell.execute_reply": "2023-09-29T04:32:44.026288Z"
    },
    "papermill": {
     "duration": 0.029602,
     "end_time": "2023-09-29T04:32:44.029671",
     "exception": false,
     "start_time": "2023-09-29T04:32:44.000069",
     "status": "completed"
    },
    "tags": []
   },
   "outputs": [
    {
     "data": {
      "text/plain": [
       "region      flavor_profile\n",
       "-1          spicy              6\n",
       "            sweet              5\n",
       "            -1                 2\n",
       "Central     spicy              2\n",
       "            sweet              1\n",
       "East        sweet             23\n",
       "            spicy              6\n",
       "            -1                 3\n",
       "North       spicy             36\n",
       "            sweet             10\n",
       "            bitter             2\n",
       "            -1                 2\n",
       "North East  spicy             13\n",
       "            sweet              7\n",
       "            -1                 5\n",
       "South       spicy             29\n",
       "            sweet             19\n",
       "            -1                10\n",
       "West        spicy             41\n",
       "            sweet             22\n",
       "            -1                 7\n",
       "            bitter             2\n",
       "            sour               1\n",
       "Name: count, dtype: int64"
      ]
     },
     "execution_count": 13,
     "metadata": {},
     "output_type": "execute_result"
    }
   ],
   "source": [
    "#group by \n",
    "df_region = df.groupby('region')['flavor_profile'].value_counts()\n",
    "df_region"
   ]
  },
  {
   "cell_type": "code",
   "execution_count": 14,
   "id": "1b43c846",
   "metadata": {
    "execution": {
     "iopub.execute_input": "2023-09-29T04:32:44.053003Z",
     "iopub.status.busy": "2023-09-29T04:32:44.052651Z",
     "iopub.status.idle": "2023-09-29T04:32:44.066079Z",
     "shell.execute_reply": "2023-09-29T04:32:44.065038Z"
    },
    "papermill": {
     "duration": 0.027381,
     "end_time": "2023-09-29T04:32:44.068132",
     "exception": false,
     "start_time": "2023-09-29T04:32:44.040751",
     "status": "completed"
    },
    "tags": []
   },
   "outputs": [
    {
     "data": {
      "text/html": [
       "<div>\n",
       "<style scoped>\n",
       "    .dataframe tbody tr th:only-of-type {\n",
       "        vertical-align: middle;\n",
       "    }\n",
       "\n",
       "    .dataframe tbody tr th {\n",
       "        vertical-align: top;\n",
       "    }\n",
       "\n",
       "    .dataframe thead th {\n",
       "        text-align: right;\n",
       "    }\n",
       "</style>\n",
       "<table border=\"1\" class=\"dataframe\">\n",
       "  <thead>\n",
       "    <tr style=\"text-align: right;\">\n",
       "      <th></th>\n",
       "      <th>name</th>\n",
       "      <th>prep_time</th>\n",
       "      <th>cook_time</th>\n",
       "      <th>process_time</th>\n",
       "    </tr>\n",
       "  </thead>\n",
       "  <tbody>\n",
       "    <tr>\n",
       "      <th>229</th>\n",
       "      <td>Shrikhand</td>\n",
       "      <td>10</td>\n",
       "      <td>720</td>\n",
       "      <td>730</td>\n",
       "    </tr>\n",
       "    <tr>\n",
       "      <th>193</th>\n",
       "      <td>Pindi chana</td>\n",
       "      <td>500</td>\n",
       "      <td>120</td>\n",
       "      <td>620</td>\n",
       "    </tr>\n",
       "    <tr>\n",
       "      <th>204</th>\n",
       "      <td>Puttu</td>\n",
       "      <td>495</td>\n",
       "      <td>40</td>\n",
       "      <td>535</td>\n",
       "    </tr>\n",
       "    <tr>\n",
       "      <th>156</th>\n",
       "      <td>Misti doi</td>\n",
       "      <td>480</td>\n",
       "      <td>30</td>\n",
       "      <td>510</td>\n",
       "    </tr>\n",
       "    <tr>\n",
       "      <th>148</th>\n",
       "      <td>Masala Dosa</td>\n",
       "      <td>360</td>\n",
       "      <td>90</td>\n",
       "      <td>450</td>\n",
       "    </tr>\n",
       "    <tr>\n",
       "      <th>65</th>\n",
       "      <td>Dosa</td>\n",
       "      <td>360</td>\n",
       "      <td>90</td>\n",
       "      <td>450</td>\n",
       "    </tr>\n",
       "    <tr>\n",
       "      <th>86</th>\n",
       "      <td>Idli</td>\n",
       "      <td>360</td>\n",
       "      <td>90</td>\n",
       "      <td>450</td>\n",
       "    </tr>\n",
       "    <tr>\n",
       "      <th>197</th>\n",
       "      <td>Poornalu</td>\n",
       "      <td>240</td>\n",
       "      <td>60</td>\n",
       "      <td>300</td>\n",
       "    </tr>\n",
       "    <tr>\n",
       "      <th>31</th>\n",
       "      <td>Chak Hao Kheer</td>\n",
       "      <td>240</td>\n",
       "      <td>45</td>\n",
       "      <td>285</td>\n",
       "    </tr>\n",
       "    <tr>\n",
       "      <th>239</th>\n",
       "      <td>Tandoori Fish Tikka</td>\n",
       "      <td>240</td>\n",
       "      <td>30</td>\n",
       "      <td>270</td>\n",
       "    </tr>\n",
       "  </tbody>\n",
       "</table>\n",
       "</div>"
      ],
      "text/plain": [
       "                    name  prep_time  cook_time  process_time\n",
       "229            Shrikhand         10        720           730\n",
       "193          Pindi chana        500        120           620\n",
       "204                Puttu        495         40           535\n",
       "156            Misti doi        480         30           510\n",
       "148          Masala Dosa        360         90           450\n",
       "65                  Dosa        360         90           450\n",
       "86                  Idli        360         90           450\n",
       "197             Poornalu        240         60           300\n",
       "31        Chak Hao Kheer        240         45           285\n",
       "239  Tandoori Fish Tikka        240         30           270"
      ]
     },
     "execution_count": 14,
     "metadata": {},
     "output_type": "execute_result"
    }
   ],
   "source": [
    "# Calculating total time as sum of preparation and cooking time\n",
    "df['process_time'] = df['prep_time'] + df['cook_time']\n",
    "\n",
    "# Sorting dishes by total time and getting the top 10 most time-consuming dishes\n",
    "complex_dishes = df[['name', 'prep_time', 'cook_time', 'process_time']].sort_values(by='process_time', ascending=False).head(10)\n",
    "complex_dishes"
   ]
  },
  {
   "cell_type": "code",
   "execution_count": 15,
   "id": "e4f2d336",
   "metadata": {
    "execution": {
     "iopub.execute_input": "2023-09-29T04:32:44.091629Z",
     "iopub.status.busy": "2023-09-29T04:32:44.091253Z",
     "iopub.status.idle": "2023-09-29T04:32:44.097489Z",
     "shell.execute_reply": "2023-09-29T04:32:44.096434Z"
    },
    "papermill": {
     "duration": 0.020415,
     "end_time": "2023-09-29T04:32:44.099808",
     "exception": false,
     "start_time": "2023-09-29T04:32:44.079393",
     "status": "completed"
    },
    "tags": []
   },
   "outputs": [],
   "source": [
    "pf=df[df['process_time']>1]\n",
    "pf=pf.sort_values(by=['process_time'])\n"
   ]
  },
  {
   "cell_type": "code",
   "execution_count": 16,
   "id": "90489afc",
   "metadata": {
    "execution": {
     "iopub.execute_input": "2023-09-29T04:32:44.123555Z",
     "iopub.status.busy": "2023-09-29T04:32:44.123164Z",
     "iopub.status.idle": "2023-09-29T04:32:44.130631Z",
     "shell.execute_reply": "2023-09-29T04:32:44.129514Z"
    },
    "papermill": {
     "duration": 0.021906,
     "end_time": "2023-09-29T04:32:44.132862",
     "exception": false,
     "start_time": "2023-09-29T04:32:44.110956",
     "status": "completed"
    },
    "tags": []
   },
   "outputs": [
    {
     "name": "stdout",
     "output_type": "stream",
     "text": [
      "top items which have low processing time\n",
      "          name  process_time\n",
      "135      Lassi            10\n",
      "179      Papad            10\n",
      "180    Papadum            10\n",
      "114     Khichu            15\n",
      "175  Pani puri            17\n"
     ]
    }
   ],
   "source": [
    "print('top items which have low processing time')\n",
    "print(pf.head()[['name','process_time']])"
   ]
  },
  {
   "cell_type": "code",
   "execution_count": 17,
   "id": "b3ee84fd",
   "metadata": {
    "execution": {
     "iopub.execute_input": "2023-09-29T04:32:44.156763Z",
     "iopub.status.busy": "2023-09-29T04:32:44.156142Z",
     "iopub.status.idle": "2023-09-29T04:32:44.164088Z",
     "shell.execute_reply": "2023-09-29T04:32:44.162890Z"
    },
    "papermill": {
     "duration": 0.021971,
     "end_time": "2023-09-29T04:32:44.165957",
     "exception": false,
     "start_time": "2023-09-29T04:32:44.143986",
     "status": "completed"
    },
    "tags": []
   },
   "outputs": [
    {
     "name": "stdout",
     "output_type": "stream",
     "text": [
      "top 5 items which have high processing time\n",
      "            name  process_time\n",
      "65          Dosa           450\n",
      "156    Misti doi           510\n",
      "204        Puttu           535\n",
      "193  Pindi chana           620\n",
      "229    Shrikhand           730\n"
     ]
    }
   ],
   "source": [
    "print('top 5 items which have high processing time')\n",
    "print(pf.tail()[['name','process_time']])"
   ]
  },
  {
   "cell_type": "code",
   "execution_count": 18,
   "id": "d41612b6",
   "metadata": {
    "execution": {
     "iopub.execute_input": "2023-09-29T04:32:44.189386Z",
     "iopub.status.busy": "2023-09-29T04:32:44.188971Z",
     "iopub.status.idle": "2023-09-29T04:32:44.376307Z",
     "shell.execute_reply": "2023-09-29T04:32:44.375574Z"
    },
    "papermill": {
     "duration": 0.201426,
     "end_time": "2023-09-29T04:32:44.378358",
     "exception": false,
     "start_time": "2023-09-29T04:32:44.176932",
     "status": "completed"
    },
    "tags": []
   },
   "outputs": [
    {
     "data": {
      "text/plain": [
       "<function matplotlib.pyplot.show(close=None, block=None)>"
      ]
     },
     "execution_count": 18,
     "metadata": {},
     "output_type": "execute_result"
    },
    {
     "data": {
      "image/png": "[encoded data removed]",
      "text/plain": [
       "<Figure size 640x480 with 1 Axes>"
      ]
     },
     "metadata": {},
     "output_type": "display_data"
    }
   ],
   "source": [
    "#Visualization\n",
    "sns.countplot(x='course',data=df)\n",
    "plt.show"
   ]
  },
  {
   "cell_type": "code",
   "execution_count": 19,
   "id": "7d06fe95",
   "metadata": {
    "execution": {
     "iopub.execute_input": "2023-09-29T04:32:44.403589Z",
     "iopub.status.busy": "2023-09-29T04:32:44.402488Z",
     "iopub.status.idle": "2023-09-29T04:32:46.271098Z",
     "shell.execute_reply": "2023-09-29T04:32:46.270038Z"
    },
    "papermill": {
     "duration": 1.883433,
     "end_time": "2023-09-29T04:32:46.273312",
     "exception": false,
     "start_time": "2023-09-29T04:32:44.389879",
     "status": "completed"
    },
    "tags": []
   },
   "outputs": [
    {
     "name": "stdout",
     "output_type": "stream",
     "text": [
      "       region  name\n",
      "0          -1    13\n",
      "1     Central     3\n",
      "2        East    32\n",
      "3       North    50\n",
      "4  North East    25\n",
      "5       South    58\n",
      "6        West    73\n"
     ]
    },
    {
     "data": {
      "text/html": [
       "        <script type=\"text/javascript\">\n",
       "        window.PlotlyConfig = {MathJaxConfig: 'local'};\n",
       "        if (window.MathJax && window.MathJax.Hub && window.MathJax.Hub.Config) {window.MathJax.Hub.Config({SVG: {font: \"STIX-Web\"}});}\n",
       "        if (typeof require !== 'undefined') {\n",
       "        require.undef(\"plotly\");\n",
       "        requirejs.config({\n",
       "            paths: {\n",
       "                'plotly': ['https://cdn.plot.ly/plotly-2.24.1.min']\n",
       "            }\n",
       "        });\n",
       "        require(['plotly'], function(Plotly) {\n",
       "            window._Plotly = Plotly;\n",
       "        });\n",
       "        }\n",
       "        </script>\n",
       "        "
      ]
     },
     "metadata": {},
     "output_type": "display_data"
    },
    {
     "data": {
      "text/html": [
       "<div>                            <div id=\"18c14cc8-48ae-41e2-86ff-9591d126465d\" class=\"plotly-graph-div\" style=\"height:525px; width:100%;\"></div>            <script type=\"text/javascript\">                require([\"plotly\"], function(Plotly) {                    window.PLOTLYENV=window.PLOTLYENV || {};                                    if (document.getElementById(\"18c14cc8-48ae-41e2-86ff-9591d126465d\")) {                    Plotly.newPlot(                        \"18c14cc8-48ae-41e2-86ff-9591d126465d\",                        [{\"domain\":{\"x\":[0.0,1.0],\"y\":[0.0,1.0]},\"hovertemplate\":\"region=%{label}\\u003cbr\\u003ename=%{value}\\u003cextra\\u003e\\u003c\\u002fextra\\u003e\",\"labels\":[\"-1\",\"Central\",\"East\",\"North\",\"North East\",\"South\",\"West\"],\"legendgroup\":\"\",\"name\":\"\",\"showlegend\":true,\"values\":[13,3,32,50,25,58,73],\"type\":\"pie\"}],                        {\"template\":{\"data\":{\"histogram2dcontour\":[{\"type\":\"histogram2dcontour\",\"colorbar\":{\"outlinewidth\":0,\"ticks\":\"\"},\"colorscale\":[[0.0,\"#0d0887\"],[0.1111111111111111,\"#46039f\"],[0.2222222222222222,\"#7201a8\"],[0.3333333333333333,\"#9c179e\"],[0.4444444444444444,\"#bd3786\"],[0.5555555555555556,\"#d8576b\"],[0.6666666666666666,\"#ed7953\"],[0.7777777777777778,\"#fb9f3a\"],[0.8888888888888888,\"#fdca26\"],[1.0,\"#f0f921\"]]}],\"choropleth\":[{\"type\":\"choropleth\",\"colorbar\":{\"outlinewidth\":0,\"ticks\":\"\"}}],\"histogram2d\":[{\"type\":\"histogram2d\",\"colorbar\":{\"outlinewidth\":0,\"ticks\":\"\"},\"colorscale\":[[0.0,\"#0d0887\"],[0.1111111111111111,\"#46039f\"],[0.2222222222222222,\"#7201a8\"],[0.3333333333333333,\"#9c179e\"],[0.4444444444444444,\"#bd3786\"],[0.5555555555555556,\"#d8576b\"],[0.6666666666666666,\"#ed7953\"],[0.7777777777777778,\"#fb9f3a\"],[0.8888888888888888,\"#fdca26\"],[1.0,\"#f0f921\"]]}],\"heatmap\":[{\"type\":\"heatmap\",\"colorbar\":{\"outlinewidth\":0,\"ticks\":\"\"},\"colorscale\":[[0.0,\"#0d0887\"],[0.1111111111111111,\"#46039f\"],[0.2222222222222222,\"#7201a8\"],[0.3333333333333333,\"#9c179e\"],[0.4444444444444444,\"#bd3786\"],[0.5555555555555556,\"#d8576b\"],[0.6666666666666666,\"#ed7953\"],[0.7777777777777778,\"#fb9f3a\"],[0.8888888888888888,\"#fdca26\"],[1.0,\"#f0f921\"]]}],\"heatmapgl\":[{\"type\":\"heatmapgl\",\"colorbar\":{\"outlinewidth\":0,\"ticks\":\"\"},\"colorscale\":[[0.0,\"#0d0887\"],[0.1111111111111111,\"#46039f\"],[0.2222222222222222,\"#7201a8\"],[0.3333333333333333,\"#9c179e\"],[0.4444444444444444,\"#bd3786\"],[0.5555555555555556,\"#d8576b\"],[0.6666666666666666,\"#ed7953\"],[0.7777777777777778,\"#fb9f3a\"],[0.8888888888888888,\"#fdca26\"],[1.0,\"#f0f921\"]]}],\"contourcarpet\":[{\"type\":\"contourcarpet\",\"colorbar\":{\"outlinewidth\":0,\"ticks\":\"\"}}],\"contour\":[{\"type\":\"contour\",\"colorbar\":{\"outlinewidth\":0,\"ticks\":\"\"},\"colorscale\":[[0.0,\"#0d0887\"],[0.1111111111111111,\"#46039f\"],[0.2222222222222222,\"#7201a8\"],[0.3333333333333333,\"#9c179e\"],[0.4444444444444444,\"#bd3786\"],[0.5555555555555556,\"#d8576b\"],[0.6666666666666666,\"#ed7953\"],[0.7777777777777778,\"#fb9f3a\"],[0.8888888888888888,\"#fdca26\"],[1.0,\"#f0f921\"]]}],\"surface\":[{\"type\":\"surface\",\"colorbar\":{\"outlinewidth\":0,\"ticks\":\"\"},\"colorscale\":[[0.0,\"#0d0887\"],[0.1111111111111111,\"#46039f\"],[0.2222222222222222,\"#7201a8\"],[0.3333333333333333,\"#9c179e\"],[0.4444444444444444,\"#bd3786\"],[0.5555555555555556,\"#d8576b\"],[0.6666666666666666,\"#ed7953\"],[0.7777777777777778,\"#fb9f3a\"],[0.8888888888888888,\"#fdca26\"],[1.0,\"#f0f921\"]]}],\"mesh3d\":[{\"type\":\"mesh3d\",\"colorbar\":{\"outlinewidth\":0,\"ticks\":\"\"}}],\"scatter\":[{\"fillpattern\":{\"fillmode\":\"overlay\",\"size\":10,\"solidity\":0.2},\"type\":\"scatter\"}],\"parcoords\":[{\"type\":\"parcoords\",\"line\":{\"colorbar\":{\"outlinewidth\":0,\"ticks\":\"\"}}}],\"scatterpolargl\":[{\"type\":\"scatterpolargl\",\"marker\":{\"colorbar\":{\"outlinewidth\":0,\"ticks\":\"\"}}}],\"bar\":[{\"error_x\":{\"color\":\"#2a3f5f\"},\"error_y\":{\"color\":\"#2a3f5f\"},\"marker\":{\"line\":{\"color\":\"#E5ECF6\",\"width\":0.5},\"pattern\":{\"fillmode\":\"overlay\",\"size\":10,\"solidity\":0.2}},\"type\":\"bar\"}],\"scattergeo\":[{\"type\":\"scattergeo\",\"marker\":{\"colorbar\":{\"outlinewidth\":0,\"ticks\":\"\"}}}],\"scatterpolar\":[{\"type\":\"scatterpolar\",\"marker\":{\"colorbar\":{\"outlinewidth\":0,\"ticks\":\"\"}}}],\"histogram\":[{\"marker\":{\"pattern\":{\"fillmode\":\"overlay\",\"size\":10,\"solidity\":0.2}},\"type\":\"histogram\"}],\"scattergl\":[{\"type\":\"scattergl\",\"marker\":{\"colorbar\":{\"outlinewidth\":0,\"ticks\":\"\"}}}],\"scatter3d\":[{\"type\":\"scatter3d\",\"line\":{\"colorbar\":{\"outlinewidth\":0,\"ticks\":\"\"}},\"marker\":{\"colorbar\":{\"outlinewidth\":0,\"ticks\":\"\"}}}],\"scattermapbox\":[{\"type\":\"scattermapbox\",\"marker\":{\"colorbar\":{\"outlinewidth\":0,\"ticks\":\"\"}}}],\"scatterternary\":[{\"type\":\"scatterternary\",\"marker\":{\"colorbar\":{\"outlinewidth\":0,\"ticks\":\"\"}}}],\"scattercarpet\":[{\"type\":\"scattercarpet\",\"marker\":{\"colorbar\":{\"outlinewidth\":0,\"ticks\":\"\"}}}],\"carpet\":[{\"aaxis\":{\"endlinecolor\":\"#2a3f5f\",\"gridcolor\":\"white\",\"linecolor\":\"white\",\"minorgridcolor\":\"white\",\"startlinecolor\":\"#2a3f5f\"},\"baxis\":{\"endlinecolor\":\"#2a3f5f\",\"gridcolor\":\"white\",\"linecolor\":\"white\",\"minorgridcolor\":\"white\",\"startlinecolor\":\"#2a3f5f\"},\"type\":\"carpet\"}],\"table\":[{\"cells\":{\"fill\":{\"color\":\"#EBF0F8\"},\"line\":{\"color\":\"white\"}},\"header\":{\"fill\":{\"color\":\"#C8D4E3\"},\"line\":{\"color\":\"white\"}},\"type\":\"table\"}],\"barpolar\":[{\"marker\":{\"line\":{\"color\":\"#E5ECF6\",\"width\":0.5},\"pattern\":{\"fillmode\":\"overlay\",\"size\":10,\"solidity\":0.2}},\"type\":\"barpolar\"}],\"pie\":[{\"automargin\":true,\"type\":\"pie\"}]},\"layout\":{\"autotypenumbers\":\"strict\",\"colorway\":[\"#636efa\",\"#EF553B\",\"#00cc96\",\"#ab63fa\",\"#FFA15A\",\"#19d3f3\",\"#FF6692\",\"#B6E880\",\"#FF97FF\",\"#FECB52\"],\"font\":{\"color\":\"#2a3f5f\"},\"hovermode\":\"closest\",\"hoverlabel\":{\"align\":\"left\"},\"paper_bgcolor\":\"white\",\"plot_bgcolor\":\"#E5ECF6\",\"polar\":{\"bgcolor\":\"#E5ECF6\",\"angularaxis\":{\"gridcolor\":\"white\",\"linecolor\":\"white\",\"ticks\":\"\"},\"radialaxis\":{\"gridcolor\":\"white\",\"linecolor\":\"white\",\"ticks\":\"\"}},\"ternary\":{\"bgcolor\":\"#E5ECF6\",\"aaxis\":{\"gridcolor\":\"white\",\"linecolor\":\"white\",\"ticks\":\"\"},\"baxis\":{\"gridcolor\":\"white\",\"linecolor\":\"white\",\"ticks\":\"\"},\"caxis\":{\"gridcolor\":\"white\",\"linecolor\":\"white\",\"ticks\":\"\"}},\"coloraxis\":{\"colorbar\":{\"outlinewidth\":0,\"ticks\":\"\"}},\"colorscale\":{\"sequential\":[[0.0,\"#0d0887\"],[0.1111111111111111,\"#46039f\"],[0.2222222222222222,\"#7201a8\"],[0.3333333333333333,\"#9c179e\"],[0.4444444444444444,\"#bd3786\"],[0.5555555555555556,\"#d8576b\"],[0.6666666666666666,\"#ed7953\"],[0.7777777777777778,\"#fb9f3a\"],[0.8888888888888888,\"#fdca26\"],[1.0,\"#f0f921\"]],\"sequentialminus\":[[0.0,\"#0d0887\"],[0.1111111111111111,\"#46039f\"],[0.2222222222222222,\"#7201a8\"],[0.3333333333333333,\"#9c179e\"],[0.4444444444444444,\"#bd3786\"],[0.5555555555555556,\"#d8576b\"],[0.6666666666666666,\"#ed7953\"],[0.7777777777777778,\"#fb9f3a\"],[0.8888888888888888,\"#fdca26\"],[1.0,\"#f0f921\"]],\"diverging\":[[0,\"#8e0152\"],[0.1,\"#c51b7d\"],[0.2,\"#de77ae\"],[0.3,\"#f1b6da\"],[0.4,\"#fde0ef\"],[0.5,\"#f7f7f7\"],[0.6,\"#e6f5d0\"],[0.7,\"#b8e186\"],[0.8,\"#7fbc41\"],[0.9,\"#4d9221\"],[1,\"#276419\"]]},\"xaxis\":{\"gridcolor\":\"white\",\"linecolor\":\"white\",\"ticks\":\"\",\"title\":{\"standoff\":15},\"zerolinecolor\":\"white\",\"automargin\":true,\"zerolinewidth\":2},\"yaxis\":{\"gridcolor\":\"white\",\"linecolor\":\"white\",\"ticks\":\"\",\"title\":{\"standoff\":15},\"zerolinecolor\":\"white\",\"automargin\":true,\"zerolinewidth\":2},\"scene\":{\"xaxis\":{\"backgroundcolor\":\"#E5ECF6\",\"gridcolor\":\"white\",\"linecolor\":\"white\",\"showbackground\":true,\"ticks\":\"\",\"zerolinecolor\":\"white\",\"gridwidth\":2},\"yaxis\":{\"backgroundcolor\":\"#E5ECF6\",\"gridcolor\":\"white\",\"linecolor\":\"white\",\"showbackground\":true,\"ticks\":\"\",\"zerolinecolor\":\"white\",\"gridwidth\":2},\"zaxis\":{\"backgroundcolor\":\"#E5ECF6\",\"gridcolor\":\"white\",\"linecolor\":\"white\",\"showbackground\":true,\"ticks\":\"\",\"zerolinecolor\":\"white\",\"gridwidth\":2}},\"shapedefaults\":{\"line\":{\"color\":\"#2a3f5f\"}},\"annotationdefaults\":{\"arrowcolor\":\"#2a3f5f\",\"arrowhead\":0,\"arrowwidth\":1},\"geo\":{\"bgcolor\":\"white\",\"landcolor\":\"#E5ECF6\",\"subunitcolor\":\"white\",\"showland\":true,\"showlakes\":true,\"lakecolor\":\"white\"},\"title\":{\"x\":0.05},\"mapbox\":{\"style\":\"light\"}}},\"legend\":{\"tracegroupgap\":0},\"margin\":{\"t\":60}},                        {\"responsive\": true}                    ).then(function(){\n",
       "                            \n",
       "var gd = document.getElementById('18c14cc8-48ae-41e2-86ff-9591d126465d');\n",
       "var x = new MutationObserver(function (mutations, observer) {{\n",
       "        var display = window.getComputedStyle(gd).display;\n",
       "        if (!display || display === 'none') {{\n",
       "            console.log([gd, 'removed!']);\n",
       "            Plotly.purge(gd);\n",
       "            observer.disconnect();\n",
       "        }}\n",
       "}});\n",
       "\n",
       "// Listen for the removal of the full notebook cells\n",
       "var notebookContainer = gd.closest('#notebook-container');\n",
       "if (notebookContainer) {{\n",
       "    x.observe(notebookContainer, {childList: true});\n",
       "}}\n",
       "\n",
       "// Listen for the clearing of the current output cell\n",
       "var outputEl = gd.closest('.output');\n",
       "if (outputEl) {{\n",
       "    x.observe(outputEl, {childList: true});\n",
       "}}\n",
       "\n",
       "                        })                };                });            </script>        </div>"
      ]
     },
     "metadata": {},
     "output_type": "display_data"
    }
   ],
   "source": [
    "rc=df.groupby('region',as_index=False)['name'].count()\n",
    "print(rc)\n",
    "fig=px.pie(rc,values='name',names='region')\n",
    "fig.show()"
   ]
  },
  {
   "cell_type": "code",
   "execution_count": 20,
   "id": "531e9b53",
   "metadata": {
    "execution": {
     "iopub.execute_input": "2023-09-29T04:32:46.299985Z",
     "iopub.status.busy": "2023-09-29T04:32:46.298831Z",
     "iopub.status.idle": "2023-09-29T04:32:46.349417Z",
     "shell.execute_reply": "2023-09-29T04:32:46.348117Z"
    },
    "papermill": {
     "duration": 0.066374,
     "end_time": "2023-09-29T04:32:46.351977",
     "exception": false,
     "start_time": "2023-09-29T04:32:46.285603",
     "status": "completed"
    },
    "tags": []
   },
   "outputs": [
    {
     "name": "stdout",
     "output_type": "stream",
     "text": [
      "  flavor_profile  name\n",
      "0             -1    29\n",
      "1         bitter     4\n",
      "2           sour     1\n",
      "3          spicy   133\n",
      "4          sweet    88\n"
     ]
    },
    {
     "data": {
      "text/html": [
       "<div>                            <div id=\"9fb09de9-0eb9-41fd-b88d-18f20e2b9b54\" class=\"plotly-graph-div\" style=\"height:525px; width:100%;\"></div>            <script type=\"text/javascript\">                require([\"plotly\"], function(Plotly) {                    window.PLOTLYENV=window.PLOTLYENV || {};                                    if (document.getElementById(\"9fb09de9-0eb9-41fd-b88d-18f20e2b9b54\")) {                    Plotly.newPlot(                        \"9fb09de9-0eb9-41fd-b88d-18f20e2b9b54\",                        [{\"domain\":{\"x\":[0.0,1.0],\"y\":[0.0,1.0]},\"hovertemplate\":\"flavor_profile=%{label}\\u003cbr\\u003ename=%{value}\\u003cextra\\u003e\\u003c\\u002fextra\\u003e\",\"labels\":[\"-1\",\"bitter\",\"sour\",\"spicy\",\"sweet\"],\"legendgroup\":\"\",\"name\":\"\",\"showlegend\":true,\"values\":[29,4,1,133,88],\"type\":\"pie\"}],                        {\"template\":{\"data\":{\"histogram2dcontour\":[{\"type\":\"histogram2dcontour\",\"colorbar\":{\"outlinewidth\":0,\"ticks\":\"\"},\"colorscale\":[[0.0,\"#0d0887\"],[0.1111111111111111,\"#46039f\"],[0.2222222222222222,\"#7201a8\"],[0.3333333333333333,\"#9c179e\"],[0.4444444444444444,\"#bd3786\"],[0.5555555555555556,\"#d8576b\"],[0.6666666666666666,\"#ed7953\"],[0.7777777777777778,\"#fb9f3a\"],[0.8888888888888888,\"#fdca26\"],[1.0,\"#f0f921\"]]}],\"choropleth\":[{\"type\":\"choropleth\",\"colorbar\":{\"outlinewidth\":0,\"ticks\":\"\"}}],\"histogram2d\":[{\"type\":\"histogram2d\",\"colorbar\":{\"outlinewidth\":0,\"ticks\":\"\"},\"colorscale\":[[0.0,\"#0d0887\"],[0.1111111111111111,\"#46039f\"],[0.2222222222222222,\"#7201a8\"],[0.3333333333333333,\"#9c179e\"],[0.4444444444444444,\"#bd3786\"],[0.5555555555555556,\"#d8576b\"],[0.6666666666666666,\"#ed7953\"],[0.7777777777777778,\"#fb9f3a\"],[0.8888888888888888,\"#fdca26\"],[1.0,\"#f0f921\"]]}],\"heatmap\":[{\"type\":\"heatmap\",\"colorbar\":{\"outlinewidth\":0,\"ticks\":\"\"},\"colorscale\":[[0.0,\"#0d0887\"],[0.1111111111111111,\"#46039f\"],[0.2222222222222222,\"#7201a8\"],[0.3333333333333333,\"#9c179e\"],[0.4444444444444444,\"#bd3786\"],[0.5555555555555556,\"#d8576b\"],[0.6666666666666666,\"#ed7953\"],[0.7777777777777778,\"#fb9f3a\"],[0.8888888888888888,\"#fdca26\"],[1.0,\"#f0f921\"]]}],\"heatmapgl\":[{\"type\":\"heatmapgl\",\"colorbar\":{\"outlinewidth\":0,\"ticks\":\"\"},\"colorscale\":[[0.0,\"#0d0887\"],[0.1111111111111111,\"#46039f\"],[0.2222222222222222,\"#7201a8\"],[0.3333333333333333,\"#9c179e\"],[0.4444444444444444,\"#bd3786\"],[0.5555555555555556,\"#d8576b\"],[0.6666666666666666,\"#ed7953\"],[0.7777777777777778,\"#fb9f3a\"],[0.8888888888888888,\"#fdca26\"],[1.0,\"#f0f921\"]]}],\"contourcarpet\":[{\"type\":\"contourcarpet\",\"colorbar\":{\"outlinewidth\":0,\"ticks\":\"\"}}],\"contour\":[{\"type\":\"contour\",\"colorbar\":{\"outlinewidth\":0,\"ticks\":\"\"},\"colorscale\":[[0.0,\"#0d0887\"],[0.1111111111111111,\"#46039f\"],[0.2222222222222222,\"#7201a8\"],[0.3333333333333333,\"#9c179e\"],[0.4444444444444444,\"#bd3786\"],[0.5555555555555556,\"#d8576b\"],[0.6666666666666666,\"#ed7953\"],[0.7777777777777778,\"#fb9f3a\"],[0.8888888888888888,\"#fdca26\"],[1.0,\"#f0f921\"]]}],\"surface\":[{\"type\":\"surface\",\"colorbar\":{\"outlinewidth\":0,\"ticks\":\"\"},\"colorscale\":[[0.0,\"#0d0887\"],[0.1111111111111111,\"#46039f\"],[0.2222222222222222,\"#7201a8\"],[0.3333333333333333,\"#9c179e\"],[0.4444444444444444,\"#bd3786\"],[0.5555555555555556,\"#d8576b\"],[0.6666666666666666,\"#ed7953\"],[0.7777777777777778,\"#fb9f3a\"],[0.8888888888888888,\"#fdca26\"],[1.0,\"#f0f921\"]]}],\"mesh3d\":[{\"type\":\"mesh3d\",\"colorbar\":{\"outlinewidth\":0,\"ticks\":\"\"}}],\"scatter\":[{\"fillpattern\":{\"fillmode\":\"overlay\",\"size\":10,\"solidity\":0.2},\"type\":\"scatter\"}],\"parcoords\":[{\"type\":\"parcoords\",\"line\":{\"colorbar\":{\"outlinewidth\":0,\"ticks\":\"\"}}}],\"scatterpolargl\":[{\"type\":\"scatterpolargl\",\"marker\":{\"colorbar\":{\"outlinewidth\":0,\"ticks\":\"\"}}}],\"bar\":[{\"error_x\":{\"color\":\"#2a3f5f\"},\"error_y\":{\"color\":\"#2a3f5f\"},\"marker\":{\"line\":{\"color\":\"#E5ECF6\",\"width\":0.5},\"pattern\":{\"fillmode\":\"overlay\",\"size\":10,\"solidity\":0.2}},\"type\":\"bar\"}],\"scattergeo\":[{\"type\":\"scattergeo\",\"marker\":{\"colorbar\":{\"outlinewidth\":0,\"ticks\":\"\"}}}],\"scatterpolar\":[{\"type\":\"scatterpolar\",\"marker\":{\"colorbar\":{\"outlinewidth\":0,\"ticks\":\"\"}}}],\"histogram\":[{\"marker\":{\"pattern\":{\"fillmode\":\"overlay\",\"size\":10,\"solidity\":0.2}},\"type\":\"histogram\"}],\"scattergl\":[{\"type\":\"scattergl\",\"marker\":{\"colorbar\":{\"outlinewidth\":0,\"ticks\":\"\"}}}],\"scatter3d\":[{\"type\":\"scatter3d\",\"line\":{\"colorbar\":{\"outlinewidth\":0,\"ticks\":\"\"}},\"marker\":{\"colorbar\":{\"outlinewidth\":0,\"ticks\":\"\"}}}],\"scattermapbox\":[{\"type\":\"scattermapbox\",\"marker\":{\"colorbar\":{\"outlinewidth\":0,\"ticks\":\"\"}}}],\"scatterternary\":[{\"type\":\"scatterternary\",\"marker\":{\"colorbar\":{\"outlinewidth\":0,\"ticks\":\"\"}}}],\"scattercarpet\":[{\"type\":\"scattercarpet\",\"marker\":{\"colorbar\":{\"outlinewidth\":0,\"ticks\":\"\"}}}],\"carpet\":[{\"aaxis\":{\"endlinecolor\":\"#2a3f5f\",\"gridcolor\":\"white\",\"linecolor\":\"white\",\"minorgridcolor\":\"white\",\"startlinecolor\":\"#2a3f5f\"},\"baxis\":{\"endlinecolor\":\"#2a3f5f\",\"gridcolor\":\"white\",\"linecolor\":\"white\",\"minorgridcolor\":\"white\",\"startlinecolor\":\"#2a3f5f\"},\"type\":\"carpet\"}],\"table\":[{\"cells\":{\"fill\":{\"color\":\"#EBF0F8\"},\"line\":{\"color\":\"white\"}},\"header\":{\"fill\":{\"color\":\"#C8D4E3\"},\"line\":{\"color\":\"white\"}},\"type\":\"table\"}],\"barpolar\":[{\"marker\":{\"line\":{\"color\":\"#E5ECF6\",\"width\":0.5},\"pattern\":{\"fillmode\":\"overlay\",\"size\":10,\"solidity\":0.2}},\"type\":\"barpolar\"}],\"pie\":[{\"automargin\":true,\"type\":\"pie\"}]},\"layout\":{\"autotypenumbers\":\"strict\",\"colorway\":[\"#636efa\",\"#EF553B\",\"#00cc96\",\"#ab63fa\",\"#FFA15A\",\"#19d3f3\",\"#FF6692\",\"#B6E880\",\"#FF97FF\",\"#FECB52\"],\"font\":{\"color\":\"#2a3f5f\"},\"hovermode\":\"closest\",\"hoverlabel\":{\"align\":\"left\"},\"paper_bgcolor\":\"white\",\"plot_bgcolor\":\"#E5ECF6\",\"polar\":{\"bgcolor\":\"#E5ECF6\",\"angularaxis\":{\"gridcolor\":\"white\",\"linecolor\":\"white\",\"ticks\":\"\"},\"radialaxis\":{\"gridcolor\":\"white\",\"linecolor\":\"white\",\"ticks\":\"\"}},\"ternary\":{\"bgcolor\":\"#E5ECF6\",\"aaxis\":{\"gridcolor\":\"white\",\"linecolor\":\"white\",\"ticks\":\"\"},\"baxis\":{\"gridcolor\":\"white\",\"linecolor\":\"white\",\"ticks\":\"\"},\"caxis\":{\"gridcolor\":\"white\",\"linecolor\":\"white\",\"ticks\":\"\"}},\"coloraxis\":{\"colorbar\":{\"outlinewidth\":0,\"ticks\":\"\"}},\"colorscale\":{\"sequential\":[[0.0,\"#0d0887\"],[0.1111111111111111,\"#46039f\"],[0.2222222222222222,\"#7201a8\"],[0.3333333333333333,\"#9c179e\"],[0.4444444444444444,\"#bd3786\"],[0.5555555555555556,\"#d8576b\"],[0.6666666666666666,\"#ed7953\"],[0.7777777777777778,\"#fb9f3a\"],[0.8888888888888888,\"#fdca26\"],[1.0,\"#f0f921\"]],\"sequentialminus\":[[0.0,\"#0d0887\"],[0.1111111111111111,\"#46039f\"],[0.2222222222222222,\"#7201a8\"],[0.3333333333333333,\"#9c179e\"],[0.4444444444444444,\"#bd3786\"],[0.5555555555555556,\"#d8576b\"],[0.6666666666666666,\"#ed7953\"],[0.7777777777777778,\"#fb9f3a\"],[0.8888888888888888,\"#fdca26\"],[1.0,\"#f0f921\"]],\"diverging\":[[0,\"#8e0152\"],[0.1,\"#c51b7d\"],[0.2,\"#de77ae\"],[0.3,\"#f1b6da\"],[0.4,\"#fde0ef\"],[0.5,\"#f7f7f7\"],[0.6,\"#e6f5d0\"],[0.7,\"#b8e186\"],[0.8,\"#7fbc41\"],[0.9,\"#4d9221\"],[1,\"#276419\"]]},\"xaxis\":{\"gridcolor\":\"white\",\"linecolor\":\"white\",\"ticks\":\"\",\"title\":{\"standoff\":15},\"zerolinecolor\":\"white\",\"automargin\":true,\"zerolinewidth\":2},\"yaxis\":{\"gridcolor\":\"white\",\"linecolor\":\"white\",\"ticks\":\"\",\"title\":{\"standoff\":15},\"zerolinecolor\":\"white\",\"automargin\":true,\"zerolinewidth\":2},\"scene\":{\"xaxis\":{\"backgroundcolor\":\"#E5ECF6\",\"gridcolor\":\"white\",\"linecolor\":\"white\",\"showbackground\":true,\"ticks\":\"\",\"zerolinecolor\":\"white\",\"gridwidth\":2},\"yaxis\":{\"backgroundcolor\":\"#E5ECF6\",\"gridcolor\":\"white\",\"linecolor\":\"white\",\"showbackground\":true,\"ticks\":\"\",\"zerolinecolor\":\"white\",\"gridwidth\":2},\"zaxis\":{\"backgroundcolor\":\"#E5ECF6\",\"gridcolor\":\"white\",\"linecolor\":\"white\",\"showbackground\":true,\"ticks\":\"\",\"zerolinecolor\":\"white\",\"gridwidth\":2}},\"shapedefaults\":{\"line\":{\"color\":\"#2a3f5f\"}},\"annotationdefaults\":{\"arrowcolor\":\"#2a3f5f\",\"arrowhead\":0,\"arrowwidth\":1},\"geo\":{\"bgcolor\":\"white\",\"landcolor\":\"#E5ECF6\",\"subunitcolor\":\"white\",\"showland\":true,\"showlakes\":true,\"lakecolor\":\"white\"},\"title\":{\"x\":0.05},\"mapbox\":{\"style\":\"light\"}}},\"legend\":{\"tracegroupgap\":0},\"margin\":{\"t\":60}},                        {\"responsive\": true}                    ).then(function(){\n",
       "                            \n",
       "var gd = document.getElementById('9fb09de9-0eb9-41fd-b88d-18f20e2b9b54');\n",
       "var x = new MutationObserver(function (mutations, observer) {{\n",
       "        var display = window.getComputedStyle(gd).display;\n",
       "        if (!display || display === 'none') {{\n",
       "            console.log([gd, 'removed!']);\n",
       "            Plotly.purge(gd);\n",
       "            observer.disconnect();\n",
       "        }}\n",
       "}});\n",
       "\n",
       "// Listen for the removal of the full notebook cells\n",
       "var notebookContainer = gd.closest('#notebook-container');\n",
       "if (notebookContainer) {{\n",
       "    x.observe(notebookContainer, {childList: true});\n",
       "}}\n",
       "\n",
       "// Listen for the clearing of the current output cell\n",
       "var outputEl = gd.closest('.output');\n",
       "if (outputEl) {{\n",
       "    x.observe(outputEl, {childList: true});\n",
       "}}\n",
       "\n",
       "                        })                };                });            </script>        </div>"
      ]
     },
     "metadata": {},
     "output_type": "display_data"
    }
   ],
   "source": [
    "rc=df.groupby('flavor_profile',as_index=False)['name'].count()\n",
    "print(rc)\n",
    "fig=px.pie(rc,values='name',names='flavor_profile')\n",
    "fig.show()"
   ]
  },
  {
   "cell_type": "code",
   "execution_count": 21,
   "id": "14ddb772",
   "metadata": {
    "execution": {
     "iopub.execute_input": "2023-09-29T04:32:46.380941Z",
     "iopub.status.busy": "2023-09-29T04:32:46.380234Z",
     "iopub.status.idle": "2023-09-29T04:32:46.627977Z",
     "shell.execute_reply": "2023-09-29T04:32:46.626821Z"
    },
    "papermill": {
     "duration": 0.26389,
     "end_time": "2023-09-29T04:32:46.630637",
     "exception": false,
     "start_time": "2023-09-29T04:32:46.366747",
     "status": "completed"
    },
    "tags": []
   },
   "outputs": [
    {
     "data": {
      "text/plain": [
       "<function matplotlib.pyplot.show(close=None, block=None)>"
      ]
     },
     "execution_count": 21,
     "metadata": {},
     "output_type": "execute_result"
    },
    {
     "data": {
      "image/png": "[encoded data removed]",
      "text/plain": [
       "<Figure size 640x480 with 1 Axes>"
      ]
     },
     "metadata": {},
     "output_type": "display_data"
    }
   ],
   "source": [
    "sns.countplot(data=df,x='diet',hue='flavor_profile')\n",
    "plt.show"
   ]
  },
  {
   "cell_type": "code",
   "execution_count": 22,
   "id": "8c50dff1",
   "metadata": {
    "execution": {
     "iopub.execute_input": "2023-09-29T04:32:46.657484Z",
     "iopub.status.busy": "2023-09-29T04:32:46.657090Z",
     "iopub.status.idle": "2023-09-29T04:32:46.896807Z",
     "shell.execute_reply": "2023-09-29T04:32:46.895705Z"
    },
    "papermill": {
     "duration": 0.255665,
     "end_time": "2023-09-29T04:32:46.899088",
     "exception": false,
     "start_time": "2023-09-29T04:32:46.643423",
     "status": "completed"
    },
    "tags": []
   },
   "outputs": [
    {
     "data": {
      "image/png": "[encoded data removed]",
      "text/plain": [
       "<Figure size 640x480 with 1 Axes>"
      ]
     },
     "metadata": {},
     "output_type": "display_data"
    }
   ],
   "source": [
    "df.flavor_profile.value_counts().plot(kind='bar')\n",
    "plt.title('Flavor wise Food Distribution')\n",
    "plt.show()"
   ]
  },
  {
   "cell_type": "code",
   "execution_count": 23,
   "id": "a0b46b68",
   "metadata": {
    "execution": {
     "iopub.execute_input": "2023-09-29T04:32:46.925981Z",
     "iopub.status.busy": "2023-09-29T04:32:46.925644Z",
     "iopub.status.idle": "2023-09-29T04:32:47.059427Z",
     "shell.execute_reply": "2023-09-29T04:32:47.058016Z"
    },
    "papermill": {
     "duration": 0.150633,
     "end_time": "2023-09-29T04:32:47.062518",
     "exception": false,
     "start_time": "2023-09-29T04:32:46.911885",
     "status": "completed"
    },
    "tags": []
   },
   "outputs": [
    {
     "data": {
      "image/png": "[encoded data removed]",
      "text/plain": [
       "<Figure size 640x480 with 1 Axes>"
      ]
     },
     "metadata": {},
     "output_type": "display_data"
    }
   ],
   "source": [
    "\n",
    "labels,freq = np.unique(df.diet.values,return_counts=True)\n",
    "colors = ['pink','lightgreen']\n",
    "plt.pie(freq,labels=labels,autopct = '%1.1f%%',colors=colors)\n",
    "plt.title('Diet Distribution')\n",
    "plt.show()"
   ]
  },
  {
   "cell_type": "code",
   "execution_count": 24,
   "id": "861f8d7f",
   "metadata": {
    "execution": {
     "iopub.execute_input": "2023-09-29T04:32:47.115954Z",
     "iopub.status.busy": "2023-09-29T04:32:47.114982Z",
     "iopub.status.idle": "2023-09-29T04:32:47.493783Z",
     "shell.execute_reply": "2023-09-29T04:32:47.492676Z"
    },
    "papermill": {
     "duration": 0.408923,
     "end_time": "2023-09-29T04:32:47.496355",
     "exception": false,
     "start_time": "2023-09-29T04:32:47.087432",
     "status": "completed"
    },
    "tags": []
   },
   "outputs": [
    {
     "data": {
      "image/png": "[encoded data removed]",
      "text/plain": [
       "<Figure size 640x480 with 1 Axes>"
      ]
     },
     "metadata": {},
     "output_type": "display_data"
    }
   ],
   "source": [
    "\n",
    "df['state'].value_counts().plot(kind='bar',color=colors)\n",
    "plt.title('State wise Food Distribution ')\n",
    "plt.show()"
   ]
  },
  {
   "cell_type": "code",
   "execution_count": 25,
   "id": "16865148",
   "metadata": {
    "execution": {
     "iopub.execute_input": "2023-09-29T04:32:47.533404Z",
     "iopub.status.busy": "2023-09-29T04:32:47.532743Z",
     "iopub.status.idle": "2023-09-29T04:32:47.757190Z",
     "shell.execute_reply": "2023-09-29T04:32:47.756073Z"
    },
    "papermill": {
     "duration": 0.24426,
     "end_time": "2023-09-29T04:32:47.759518",
     "exception": false,
     "start_time": "2023-09-29T04:32:47.515258",
     "status": "completed"
    },
    "tags": []
   },
   "outputs": [
    {
     "data": {
      "image/png": "[encoded data removed]",
      "text/plain": [
       "<Figure size 640x480 with 1 Axes>"
      ]
     },
     "metadata": {},
     "output_type": "display_data"
    }
   ],
   "source": [
    "\n",
    "df.course.value_counts().plot(kind='bar',color=colors)\n",
    "plt.title('Food Course Distribution')\n",
    "plt.show()"
   ]
  },
  {
   "cell_type": "code",
   "execution_count": 26,
   "id": "8314e746",
   "metadata": {
    "execution": {
     "iopub.execute_input": "2023-09-29T04:32:47.790505Z",
     "iopub.status.busy": "2023-09-29T04:32:47.789793Z",
     "iopub.status.idle": "2023-09-29T04:32:48.091673Z",
     "shell.execute_reply": "2023-09-29T04:32:48.090349Z"
    },
    "papermill": {
     "duration": 0.320096,
     "end_time": "2023-09-29T04:32:48.094104",
     "exception": false,
     "start_time": "2023-09-29T04:32:47.774008",
     "status": "completed"
    },
    "tags": []
   },
   "outputs": [
    {
     "data": {
      "image/png": "[encoded data removed]",
      "text/plain": [
       "<Figure size 640x480 with 1 Axes>"
      ]
     },
     "metadata": {},
     "output_type": "display_data"
    }
   ],
   "source": [
    "name_and_time = df[['name', 'prep_time', 'cook_time']].head(10)\n",
    "name_and_time.plot.bar(x='name', y=['prep_time', 'cook_time'])\n",
    "plt.show()"
   ]
  },
  {
   "cell_type": "code",
   "execution_count": 27,
   "id": "ffb8e913",
   "metadata": {
    "execution": {
     "iopub.execute_input": "2023-09-29T04:32:48.128544Z",
     "iopub.status.busy": "2023-09-29T04:32:48.127773Z",
     "iopub.status.idle": "2023-09-29T04:32:48.546729Z",
     "shell.execute_reply": "2023-09-29T04:32:48.545705Z"
    },
    "papermill": {
     "duration": 0.438698,
     "end_time": "2023-09-29T04:32:48.548808",
     "exception": false,
     "start_time": "2023-09-29T04:32:48.110110",
     "status": "completed"
    },
    "tags": []
   },
   "outputs": [
    {
     "data": {
      "text/plain": [
       "<function matplotlib.pyplot.show(close=None, block=None)>"
      ]
     },
     "execution_count": 27,
     "metadata": {},
     "output_type": "execute_result"
    },
    {
     "data": {
      "image/png": "[encoded data removed]",
      "text/plain": [
       "<Figure size 500x600 with 1 Axes>"
      ]
     },
     "metadata": {},
     "output_type": "display_data"
    }
   ],
   "source": [
    "# horizontal bar chart with grid \n",
    "name_and_time.plot.barh(x='name',color =['orange', 'green'], title = \"Dishes\", grid = True, figsize=(5,6), legend = True)\n",
    "plt.show"
   ]
  },
  {
   "cell_type": "code",
   "execution_count": 28,
   "id": "65ac6e8a",
   "metadata": {
    "execution": {
     "iopub.execute_input": "2023-09-29T04:32:48.585833Z",
     "iopub.status.busy": "2023-09-29T04:32:48.585472Z",
     "iopub.status.idle": "2023-09-29T04:32:48.828778Z",
     "shell.execute_reply": "2023-09-29T04:32:48.827679Z"
    },
    "papermill": {
     "duration": 0.263987,
     "end_time": "2023-09-29T04:32:48.831054",
     "exception": false,
     "start_time": "2023-09-29T04:32:48.567067",
     "status": "completed"
    },
    "tags": []
   },
   "outputs": [
    {
     "data": {
      "text/plain": [
       "<Axes: xlabel='cook_time', ylabel='prep_time'>"
      ]
     },
     "execution_count": 28,
     "metadata": {},
     "output_type": "execute_result"
    },
    {
     "data": {
      "image/png": "[encoded data removed]",
      "text/plain": [
       "<Figure size 640x480 with 1 Axes>"
      ]
     },
     "metadata": {},
     "output_type": "display_data"
    }
   ],
   "source": [
    "#scatter Plot\n",
    "data = df[(df.cook_time!=-2) & (df.prep_time!=-1)]\n",
    "data.plot.scatter(x='cook_time', y='prep_time', s = 15, c='purple', marker= '*')"
   ]
  },
  {
   "cell_type": "markdown",
   "id": "6756e818",
   "metadata": {
    "execution": {
     "iopub.execute_input": "2023-09-29T03:40:16.053385Z",
     "iopub.status.busy": "2023-09-29T03:40:16.053067Z",
     "iopub.status.idle": "2023-09-29T03:40:16.198007Z",
     "shell.execute_reply": "2023-09-29T03:40:16.197218Z",
     "shell.execute_reply.started": "2023-09-29T03:40:16.053362Z"
    },
    "papermill": {
     "duration": 0.01567,
     "end_time": "2023-09-29T04:32:48.862654",
     "exception": false,
     "start_time": "2023-09-29T04:32:48.846984",
     "status": "completed"
    },
    "tags": []
   },
   "source": [
    "### Line PLot\n",
    "df['cook_time'].plot()"
   ]
  },
  {
   "cell_type": "code",
   "execution_count": 29,
   "id": "6ad3a8a9",
   "metadata": {
    "execution": {
     "iopub.execute_input": "2023-09-29T04:32:48.895628Z",
     "iopub.status.busy": "2023-09-29T04:32:48.895213Z",
     "iopub.status.idle": "2023-09-29T04:32:49.155413Z",
     "shell.execute_reply": "2023-09-29T04:32:49.154177Z"
    },
    "papermill": {
     "duration": 0.279307,
     "end_time": "2023-09-29T04:32:49.157659",
     "exception": false,
     "start_time": "2023-09-29T04:32:48.878352",
     "status": "completed"
    },
    "tags": []
   },
   "outputs": [
    {
     "data": {
      "text/plain": [
       "<Axes: >"
      ]
     },
     "execution_count": 29,
     "metadata": {},
     "output_type": "execute_result"
    },
    {
     "data": {
      "image/png": "[encoded data removed]",
      "text/plain": [
       "<Figure size 640x480 with 1 Axes>"
      ]
     },
     "metadata": {},
     "output_type": "display_data"
    }
   ],
   "source": [
    "# Line Plot\n",
    "df['cook_time'].plot()"
   ]
  },
  {
   "cell_type": "code",
   "execution_count": 30,
   "id": "676d0561",
   "metadata": {
    "execution": {
     "iopub.execute_input": "2023-09-29T04:32:49.192385Z",
     "iopub.status.busy": "2023-09-29T04:32:49.191977Z",
     "iopub.status.idle": "2023-09-29T04:32:49.201558Z",
     "shell.execute_reply": "2023-09-29T04:32:49.200313Z"
    },
    "papermill": {
     "duration": 0.03017,
     "end_time": "2023-09-29T04:32:49.204193",
     "exception": false,
     "start_time": "2023-09-29T04:32:49.174023",
     "status": "completed"
    },
    "tags": []
   },
   "outputs": [],
   "source": [
    "import statistics as st\n",
    "from statistics import median\n",
    "from statistics import mode"
   ]
  },
  {
   "cell_type": "code",
   "execution_count": 31,
   "id": "1d7440df",
   "metadata": {
    "execution": {
     "iopub.execute_input": "2023-09-29T04:32:49.239676Z",
     "iopub.status.busy": "2023-09-29T04:32:49.239167Z",
     "iopub.status.idle": "2023-09-29T04:32:49.245726Z",
     "shell.execute_reply": "2023-09-29T04:32:49.244682Z"
    },
    "papermill": {
     "duration": 0.026419,
     "end_time": "2023-09-29T04:32:49.247782",
     "exception": false,
     "start_time": "2023-09-29T04:32:49.221363",
     "status": "completed"
    },
    "tags": []
   },
   "outputs": [],
   "source": [
    "data= df['process_time'] = df['prep_time'] + df['cook_time']\n"
   ]
  },
  {
   "cell_type": "code",
   "execution_count": 32,
   "id": "dc6973eb",
   "metadata": {
    "execution": {
     "iopub.execute_input": "2023-09-29T04:32:49.283211Z",
     "iopub.status.busy": "2023-09-29T04:32:49.282474Z",
     "iopub.status.idle": "2023-09-29T04:32:49.288541Z",
     "shell.execute_reply": "2023-09-29T04:32:49.287301Z"
    },
    "papermill": {
     "duration": 0.026272,
     "end_time": "2023-09-29T04:32:49.290702",
     "exception": false,
     "start_time": "2023-09-29T04:32:49.264430",
     "status": "completed"
    },
    "tags": []
   },
   "outputs": [
    {
     "name": "stdout",
     "output_type": "stream",
     "text": [
      "65.63529411764706\n"
     ]
    }
   ],
   "source": [
    "print(st.mean(data))"
   ]
  },
  {
   "cell_type": "code",
   "execution_count": 33,
   "id": "88679c13",
   "metadata": {
    "execution": {
     "iopub.execute_input": "2023-09-29T04:32:49.329418Z",
     "iopub.status.busy": "2023-09-29T04:32:49.328781Z",
     "iopub.status.idle": "2023-09-29T04:32:49.333975Z",
     "shell.execute_reply": "2023-09-29T04:32:49.332884Z"
    },
    "papermill": {
     "duration": 0.028282,
     "end_time": "2023-09-29T04:32:49.336265",
     "exception": false,
     "start_time": "2023-09-29T04:32:49.307983",
     "status": "completed"
    },
    "tags": []
   },
   "outputs": [
    {
     "name": "stdout",
     "output_type": "stream",
     "text": [
      "50\n"
     ]
    }
   ],
   "source": [
    "print(st.median(data))"
   ]
  },
  {
   "cell_type": "code",
   "execution_count": 34,
   "id": "ffbe8538",
   "metadata": {
    "execution": {
     "iopub.execute_input": "2023-09-29T04:32:49.374043Z",
     "iopub.status.busy": "2023-09-29T04:32:49.373696Z",
     "iopub.status.idle": "2023-09-29T04:32:49.378870Z",
     "shell.execute_reply": "2023-09-29T04:32:49.377873Z"
    },
    "papermill": {
     "duration": 0.027308,
     "end_time": "2023-09-29T04:32:49.381441",
     "exception": false,
     "start_time": "2023-09-29T04:32:49.354133",
     "status": "completed"
    },
    "tags": []
   },
   "outputs": [
    {
     "name": "stdout",
     "output_type": "stream",
     "text": [
      "50\n"
     ]
    }
   ],
   "source": [
    "print(st.mode(data))"
   ]
  },
  {
   "cell_type": "code",
   "execution_count": 35,
   "id": "ba4c9dc8",
   "metadata": {
    "execution": {
     "iopub.execute_input": "2023-09-29T04:32:49.417512Z",
     "iopub.status.busy": "2023-09-29T04:32:49.417114Z",
     "iopub.status.idle": "2023-09-29T04:32:49.422222Z",
     "shell.execute_reply": "2023-09-29T04:32:49.421369Z"
    },
    "papermill": {
     "duration": 0.026043,
     "end_time": "2023-09-29T04:32:49.424153",
     "exception": false,
     "start_time": "2023-09-29T04:32:49.398110",
     "status": "completed"
    },
    "tags": []
   },
   "outputs": [
    {
     "name": "stdout",
     "output_type": "stream",
     "text": [
      "8603.05150532654\n"
     ]
    }
   ],
   "source": [
    "print(st.variance(data))"
   ]
  },
  {
   "cell_type": "code",
   "execution_count": 36,
   "id": "032fbf04",
   "metadata": {
    "execution": {
     "iopub.execute_input": "2023-09-29T04:32:49.459755Z",
     "iopub.status.busy": "2023-09-29T04:32:49.459088Z",
     "iopub.status.idle": "2023-09-29T04:32:49.464717Z",
     "shell.execute_reply": "2023-09-29T04:32:49.463504Z"
    },
    "papermill": {
     "duration": 0.026015,
     "end_time": "2023-09-29T04:32:49.466668",
     "exception": false,
     "start_time": "2023-09-29T04:32:49.440653",
     "status": "completed"
    },
    "tags": []
   },
   "outputs": [
    {
     "name": "stdout",
     "output_type": "stream",
     "text": [
      "92.75263610985157\n"
     ]
    }
   ],
   "source": [
    "print(st.stdev(data))"
   ]
  },
  {
   "cell_type": "code",
   "execution_count": 37,
   "id": "9af780a6",
   "metadata": {
    "execution": {
     "iopub.execute_input": "2023-09-29T04:32:49.502630Z",
     "iopub.status.busy": "2023-09-29T04:32:49.501980Z",
     "iopub.status.idle": "2023-09-29T04:32:49.506737Z",
     "shell.execute_reply": "2023-09-29T04:32:49.505709Z"
    },
    "papermill": {
     "duration": 0.025531,
     "end_time": "2023-09-29T04:32:49.508988",
     "exception": false,
     "start_time": "2023-09-29T04:32:49.483457",
     "status": "completed"
    },
    "tags": []
   },
   "outputs": [],
   "source": [
    "data1= df['prep_time']"
   ]
  },
  {
   "cell_type": "code",
   "execution_count": 38,
   "id": "3a9cff16",
   "metadata": {
    "execution": {
     "iopub.execute_input": "2023-09-29T04:32:49.545558Z",
     "iopub.status.busy": "2023-09-29T04:32:49.545002Z",
     "iopub.status.idle": "2023-09-29T04:32:49.550968Z",
     "shell.execute_reply": "2023-09-29T04:32:49.549764Z"
    },
    "papermill": {
     "duration": 0.026946,
     "end_time": "2023-09-29T04:32:49.553122",
     "exception": false,
     "start_time": "2023-09-29T04:32:49.526176",
     "status": "completed"
    },
    "tags": []
   },
   "outputs": [
    {
     "name": "stdout",
     "output_type": "stream",
     "text": [
      "5768.810421491431\n"
     ]
    }
   ],
   "source": [
    "print(st.covariance(data,data1))"
   ]
  },
  {
   "cell_type": "code",
   "execution_count": 39,
   "id": "99b9a14d",
   "metadata": {
    "execution": {
     "iopub.execute_input": "2023-09-29T04:32:49.588846Z",
     "iopub.status.busy": "2023-09-29T04:32:49.588496Z",
     "iopub.status.idle": "2023-09-29T04:32:49.593328Z",
     "shell.execute_reply": "2023-09-29T04:32:49.592588Z"
    },
    "papermill": {
     "duration": 0.025397,
     "end_time": "2023-09-29T04:32:49.595258",
     "exception": false,
     "start_time": "2023-09-29T04:32:49.569861",
     "status": "completed"
    },
    "tags": []
   },
   "outputs": [
    {
     "name": "stdout",
     "output_type": "stream",
     "text": [
      "0.8572276993487228\n"
     ]
    }
   ],
   "source": [
    "print(st.correlation(data,data1))\n"
   ]
  },
  {
   "cell_type": "code",
   "execution_count": 40,
   "id": "f145e2a3",
   "metadata": {
    "execution": {
     "iopub.execute_input": "2023-09-29T04:32:49.630185Z",
     "iopub.status.busy": "2023-09-29T04:32:49.629105Z",
     "iopub.status.idle": "2023-09-29T04:35:56.019745Z",
     "shell.execute_reply": "2023-09-29T04:35:56.018330Z"
    },
    "papermill": {
     "duration": 186.426574,
     "end_time": "2023-09-29T04:35:56.038327",
     "exception": false,
     "start_time": "2023-09-29T04:32:49.611753",
     "status": "completed"
    },
    "tags": []
   },
   "outputs": [
    {
     "name": "stdout",
     "output_type": "stream",
     "text": [
      "Requirement already satisfied: scipy in /opt/conda/lib/python3.10/site-packages (1.11.2)\r\n",
      "\u001b[33mWARNING: Retrying (Retry(total=4, connect=None, read=None, redirect=None, status=None)) after connection broken by 'NewConnectionError('<pip._vendor.urllib3.connection.HTTPSConnection object at 0x7946716ec9a0>: Failed to establish a new connection: [Errno -3] Temporary failure in name resolution')': /simple/scipy/\u001b[0m\u001b[33m\r\n",
      "\u001b[0m\u001b[33mWARNING: Retrying (Retry(total=3, connect=None, read=None, redirect=None, status=None)) after connection broken by 'NewConnectionError('<pip._vendor.urllib3.connection.HTTPSConnection object at 0x7946716eccd0>: Failed to establish a new connection: [Errno -3] Temporary failure in name resolution')': /simple/scipy/\u001b[0m\u001b[33m\r\n",
      "\u001b[0m\u001b[33mWARNING: Retrying (Retry(total=2, connect=None, read=None, redirect=None, status=None)) after connection broken by 'NewConnectionError('<pip._vendor.urllib3.connection.HTTPSConnection object at 0x7946716ed030>: Failed to establish a new connection: [Errno -3] Temporary failure in name resolution')': /simple/scipy/\u001b[0m\u001b[33m\r\n",
      "\u001b[0m\u001b[33mWARNING: Retrying (Retry(total=1, connect=None, read=None, redirect=None, status=None)) after connection broken by 'NewConnectionError('<pip._vendor.urllib3.connection.HTTPSConnection object at 0x7946716ed1e0>: Failed to establish a new connection: [Errno -3] Temporary failure in name resolution')': /simple/scipy/\u001b[0m\u001b[33m\r\n",
      "\u001b[0m\u001b[33mWARNING: Retrying (Retry(total=0, connect=None, read=None, redirect=None, status=None)) after connection broken by 'NewConnectionError('<pip._vendor.urllib3.connection.HTTPSConnection object at 0x7946716ed390>: Failed to establish a new connection: [Errno -3] Temporary failure in name resolution')': /simple/scipy/\u001b[0m\u001b[33m\r\n",
      "\u001b[0mRequirement already satisfied: numpy<1.28.0,>=1.21.6 in /opt/conda/lib/python3.10/site-packages (from scipy) (1.23.5)\r\n",
      "Note: you may need to restart the kernel to use updated packages.\n"
     ]
    }
   ],
   "source": [
    "pip install --upgrade scipy"
   ]
  },
  {
   "cell_type": "code",
   "execution_count": 41,
   "id": "c66e8408",
   "metadata": {
    "execution": {
     "iopub.execute_input": "2023-09-29T04:35:56.075318Z",
     "iopub.status.busy": "2023-09-29T04:35:56.074894Z",
     "iopub.status.idle": "2023-09-29T04:35:56.080436Z",
     "shell.execute_reply": "2023-09-29T04:35:56.079226Z"
    },
    "papermill": {
     "duration": 0.027369,
     "end_time": "2023-09-29T04:35:56.082531",
     "exception": false,
     "start_time": "2023-09-29T04:35:56.055162",
     "status": "completed"
    },
    "tags": []
   },
   "outputs": [],
   "source": [
    "import pandas as pd\n",
    "import numpy as np\n",
    "import matplotlib.pyplot as plt\n",
    "import seaborn as sns\n",
    "import math\n",
    "import scipy"
   ]
  },
  {
   "cell_type": "code",
   "execution_count": 42,
   "id": "1aaccf60",
   "metadata": {
    "execution": {
     "iopub.execute_input": "2023-09-29T04:35:56.119644Z",
     "iopub.status.busy": "2023-09-29T04:35:56.119257Z",
     "iopub.status.idle": "2023-09-29T04:35:56.127736Z",
     "shell.execute_reply": "2023-09-29T04:35:56.127038Z"
    },
    "papermill": {
     "duration": 0.030052,
     "end_time": "2023-09-29T04:35:56.129682",
     "exception": false,
     "start_time": "2023-09-29T04:35:56.099630",
     "status": "completed"
    },
    "tags": []
   },
   "outputs": [
    {
     "data": {
      "text/plain": [
       "0    60\n",
       "1    30\n",
       "2    45\n",
       "3    50\n",
       "4    50\n",
       "dtype: int64"
      ]
     },
     "execution_count": 42,
     "metadata": {},
     "output_type": "execute_result"
    }
   ],
   "source": [
    "data= df['process_time'] = df['prep_time'] + df['cook_time']\n",
    "data.head(5)\n"
   ]
  },
  {
   "cell_type": "code",
   "execution_count": 43,
   "id": "a55d0643",
   "metadata": {
    "execution": {
     "iopub.execute_input": "2023-09-29T04:35:56.166127Z",
     "iopub.status.busy": "2023-09-29T04:35:56.165750Z",
     "iopub.status.idle": "2023-09-29T04:35:56.299578Z",
     "shell.execute_reply": "2023-09-29T04:35:56.298098Z"
    },
    "papermill": {
     "duration": 0.15444,
     "end_time": "2023-09-29T04:35:56.301421",
     "exception": false,
     "start_time": "2023-09-29T04:35:56.146981",
     "status": "completed"
    },
    "tags": []
   },
   "outputs": [
    {
     "name": "stdout",
     "output_type": "stream",
     "text": [
      "F_onewayResult(statistic=17.094525078533245, pvalue=5.4660258809022566e-08)\n"
     ]
    }
   ],
   "source": [
    "from scipy import stats\n",
    "from statsmodels.stats.anova import anova_lm\n",
    "from scipy.stats import f_oneway\n",
    "s1=df['process_time']\n",
    "s2=df['prep_time'] \n",
    "s3=df['cook_time']\n",
    "\n",
    "\n",
    "a = 0.05\n",
    "res = f_oneway(s1,s2,s3)\n",
    "print(res)"
   ]
  },
  {
   "cell_type": "code",
   "execution_count": 44,
   "id": "632976d7",
   "metadata": {
    "execution": {
     "iopub.execute_input": "2023-09-29T04:35:56.338466Z",
     "iopub.status.busy": "2023-09-29T04:35:56.337869Z",
     "iopub.status.idle": "2023-09-29T04:35:56.343318Z",
     "shell.execute_reply": "2023-09-29T04:35:56.342335Z"
    },
    "papermill": {
     "duration": 0.025979,
     "end_time": "2023-09-29T04:35:56.345401",
     "exception": false,
     "start_time": "2023-09-29T04:35:56.319422",
     "status": "completed"
    },
    "tags": []
   },
   "outputs": [
    {
     "name": "stdout",
     "output_type": "stream",
     "text": [
      "reject null hypothesis\n"
     ]
    }
   ],
   "source": [
    "if res[1] < a:\n",
    "    print('reject null hypothesis')\n",
    "else:\n",
    "    print('null cannot be rejected')"
   ]
  },
  {
   "cell_type": "code",
   "execution_count": 45,
   "id": "83671b57",
   "metadata": {
    "execution": {
     "iopub.execute_input": "2023-09-29T04:35:56.381097Z",
     "iopub.status.busy": "2023-09-29T04:35:56.380758Z",
     "iopub.status.idle": "2023-09-29T04:35:56.387634Z",
     "shell.execute_reply": "2023-09-29T04:35:56.386422Z"
    },
    "papermill": {
     "duration": 0.026849,
     "end_time": "2023-09-29T04:35:56.389343",
     "exception": false,
     "start_time": "2023-09-29T04:35:56.362494",
     "status": "completed"
    },
    "tags": []
   },
   "outputs": [
    {
     "name": "stdout",
     "output_type": "stream",
     "text": [
      "4.301849428197\n"
     ]
    }
   ],
   "source": [
    "from scipy.stats import skew\n",
    "print(skew(df['process_time'],axis=0,bias=True))"
   ]
  },
  {
   "cell_type": "code",
   "execution_count": 46,
   "id": "39b5563b",
   "metadata": {
    "execution": {
     "iopub.execute_input": "2023-09-29T04:35:56.425334Z",
     "iopub.status.busy": "2023-09-29T04:35:56.424935Z",
     "iopub.status.idle": "2023-09-29T04:35:56.431493Z",
     "shell.execute_reply": "2023-09-29T04:35:56.430453Z"
    },
    "papermill": {
     "duration": 0.027062,
     "end_time": "2023-09-29T04:35:56.433644",
     "exception": false,
     "start_time": "2023-09-29T04:35:56.406582",
     "status": "completed"
    },
    "tags": []
   },
   "outputs": [
    {
     "name": "stdout",
     "output_type": "stream",
     "text": [
      "4.60898388128749\n"
     ]
    }
   ],
   "source": [
    "from scipy.stats import skew\n",
    "print(skew(df['prep_time'],axis=0,bias=True))"
   ]
  },
  {
   "cell_type": "code",
   "execution_count": 47,
   "id": "071e8639",
   "metadata": {
    "execution": {
     "iopub.execute_input": "2023-09-29T04:35:56.471580Z",
     "iopub.status.busy": "2023-09-29T04:35:56.471196Z",
     "iopub.status.idle": "2023-09-29T04:35:56.477090Z",
     "shell.execute_reply": "2023-09-29T04:35:56.476312Z"
    },
    "papermill": {
     "duration": 0.02666,
     "end_time": "2023-09-29T04:35:56.478744",
     "exception": false,
     "start_time": "2023-09-29T04:35:56.452084",
     "status": "completed"
    },
    "tags": []
   },
   "outputs": [
    {
     "name": "stdout",
     "output_type": "stream",
     "text": [
      "11.366063906426927\n"
     ]
    }
   ],
   "source": [
    "from scipy.stats import skew\n",
    "print(skew(df['cook_time'],axis=0,bias=True))"
   ]
  },
  {
   "cell_type": "code",
   "execution_count": 48,
   "id": "4f5610c3",
   "metadata": {
    "execution": {
     "iopub.execute_input": "2023-09-29T04:35:56.515231Z",
     "iopub.status.busy": "2023-09-29T04:35:56.514828Z",
     "iopub.status.idle": "2023-09-29T04:35:57.037546Z",
     "shell.execute_reply": "2023-09-29T04:35:57.036305Z"
    },
    "papermill": {
     "duration": 0.543874,
     "end_time": "2023-09-29T04:35:57.039834",
     "exception": false,
     "start_time": "2023-09-29T04:35:56.495960",
     "status": "completed"
    },
    "tags": []
   },
   "outputs": [
    {
     "data": {
      "text/plain": [
       "<Axes: xlabel='process_time', ylabel='Density'>"
      ]
     },
     "execution_count": 48,
     "metadata": {},
     "output_type": "execute_result"
    },
    {
     "data": {
      "image/png": "[encoded data removed]",
      "text/plain": [
       "<Figure size 640x480 with 1 Axes>"
      ]
     },
     "metadata": {},
     "output_type": "display_data"
    }
   ],
   "source": [
    "sns.histplot(df['process_time'],stat='density',bins=40)\n",
    "sns.kdeplot(df['process_time'],color='black')"
   ]
  },
  {
   "cell_type": "code",
   "execution_count": 49,
   "id": "1aec6872",
   "metadata": {
    "execution": {
     "iopub.execute_input": "2023-09-29T04:35:57.078117Z",
     "iopub.status.busy": "2023-09-29T04:35:57.077765Z",
     "iopub.status.idle": "2023-09-29T04:35:57.447442Z",
     "shell.execute_reply": "2023-09-29T04:35:57.446363Z"
    },
    "papermill": {
     "duration": 0.391839,
     "end_time": "2023-09-29T04:35:57.449497",
     "exception": false,
     "start_time": "2023-09-29T04:35:57.057658",
     "status": "completed"
    },
    "tags": []
   },
   "outputs": [
    {
     "data": {
      "text/plain": [
       "<Axes: xlabel='prep_time', ylabel='Density'>"
      ]
     },
     "execution_count": 49,
     "metadata": {},
     "output_type": "execute_result"
    },
    {
     "data": {
      "image/png": "[encoded data removed]",
      "text/plain": [
       "<Figure size 640x480 with 1 Axes>"
      ]
     },
     "metadata": {},
     "output_type": "display_data"
    }
   ],
   "source": [
    "sns.histplot(df['prep_time'],stat='density',bins=40)\n",
    "sns.kdeplot(df['prep_time'],color='black')"
   ]
  },
  {
   "cell_type": "code",
   "execution_count": 50,
   "id": "c49b7c72",
   "metadata": {
    "execution": {
     "iopub.execute_input": "2023-09-29T04:35:57.495233Z",
     "iopub.status.busy": "2023-09-29T04:35:57.494375Z",
     "iopub.status.idle": "2023-09-29T04:35:57.869496Z",
     "shell.execute_reply": "2023-09-29T04:35:57.868570Z"
    },
    "papermill": {
     "duration": 0.403455,
     "end_time": "2023-09-29T04:35:57.871534",
     "exception": false,
     "start_time": "2023-09-29T04:35:57.468079",
     "status": "completed"
    },
    "tags": []
   },
   "outputs": [
    {
     "data": {
      "text/plain": [
       "<Axes: xlabel='cook_time', ylabel='Density'>"
      ]
     },
     "execution_count": 50,
     "metadata": {},
     "output_type": "execute_result"
    },
    {
     "data": {
      "image/png": "[encoded data removed]",
      "text/plain": [
       "<Figure size 640x480 with 1 Axes>"
      ]
     },
     "metadata": {},
     "output_type": "display_data"
    }
   ],
   "source": [
    "sns.histplot(df['cook_time'],stat='density',bins=40)\n",
    "sns.kdeplot(df['cook_time'],color='black')"
   ]
  }
 ],
 "metadata": {
  "kernelspec": {
   "display_name": "Python 3",
   "language": "python",
   "name": "python3"
  },
  "language_info": {
   "codemirror_mode": {
    "name": "ipython",
    "version": 3
   },
   "file_extension": ".py",
   "mimetype": "text/x-python",
   "name": "python",
   "nbconvert_exporter": "python",
   "pygments_lexer": "ipython3",
   "version": "3.10.12"
  },
  "papermill": {
   "default_parameters": {},
   "duration": 200.756805,
   "end_time": "2023-09-29T04:35:58.612649",
   "environment_variables": {},
   "exception": null,
   "input_path": "__notebook__.ipynb",
   "output_path": "__notebook__.ipynb",
   "parameters": {},
   "start_time": "2023-09-29T04:32:37.855844",
   "version": "2.4.0"
  }
 },
 "nbformat": 4,
 "nbformat_minor": 5
}
